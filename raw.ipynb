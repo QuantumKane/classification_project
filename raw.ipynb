{
 "cells": [
  {
   "cell_type": "code",
   "execution_count": 1,
   "metadata": {},
   "outputs": [],
   "source": [
    "import numpy as np\n",
    "import pandas as pd\n",
    "\n",
    "from sklearn.model_selection import train_test_split\n",
    "from sklearn.linear_model import LogisticRegression\n",
    "from sklearn.metrics import classification_report, confusion_matrix, precision_score, recall_score, accuracy_score\n",
    "from sklearn.tree import DecisionTreeClassifier\n",
    "from sklearn.ensemble import RandomForestClassifier\n",
    "\n",
    "# ignore warnings\n",
    "import warnings\n",
    "warnings.filterwarnings(\"ignore\")\n",
    "\n",
    "import matplotlib.pyplot as plt\n",
    "import seaborn as sns\n",
    "from scipy import stats\n",
    "\n",
    "#from acquire import get_telco_data\n",
    "#from prepare import telco_prep\n",
    "import acquire\n",
    "import explore\n",
    "import prepare"
   ]
  },
  {
   "cell_type": "markdown",
   "metadata": {},
   "source": [
    "# Acquire"
   ]
  },
  {
   "cell_type": "code",
   "execution_count": 2,
   "metadata": {},
   "outputs": [
    {
     "name": "stdout",
     "output_type": "stream",
     "text": [
      "(7043, 24)\n"
     ]
    },
    {
     "data": {
      "text/html": [
       "<div>\n",
       "<style scoped>\n",
       "    .dataframe tbody tr th:only-of-type {\n",
       "        vertical-align: middle;\n",
       "    }\n",
       "\n",
       "    .dataframe tbody tr th {\n",
       "        vertical-align: top;\n",
       "    }\n",
       "\n",
       "    .dataframe thead th {\n",
       "        text-align: right;\n",
       "    }\n",
       "</style>\n",
       "<table border=\"1\" class=\"dataframe\">\n",
       "  <thead>\n",
       "    <tr style=\"text-align: right;\">\n",
       "      <th></th>\n",
       "      <th>internet_service_type_id</th>\n",
       "      <th>contract_type_id</th>\n",
       "      <th>payment_type_id</th>\n",
       "      <th>customer_id</th>\n",
       "      <th>gender</th>\n",
       "      <th>senior_citizen</th>\n",
       "      <th>partner</th>\n",
       "      <th>dependents</th>\n",
       "      <th>tenure</th>\n",
       "      <th>phone_service</th>\n",
       "      <th>...</th>\n",
       "      <th>tech_support</th>\n",
       "      <th>streaming_tv</th>\n",
       "      <th>streaming_movies</th>\n",
       "      <th>paperless_billing</th>\n",
       "      <th>monthly_charges</th>\n",
       "      <th>total_charges</th>\n",
       "      <th>churn</th>\n",
       "      <th>payment_type</th>\n",
       "      <th>contract_type</th>\n",
       "      <th>internet_service_type</th>\n",
       "    </tr>\n",
       "  </thead>\n",
       "  <tbody>\n",
       "    <tr>\n",
       "      <td>0</td>\n",
       "      <td>1</td>\n",
       "      <td>1</td>\n",
       "      <td>2</td>\n",
       "      <td>0003-MKNFE</td>\n",
       "      <td>Male</td>\n",
       "      <td>0</td>\n",
       "      <td>No</td>\n",
       "      <td>No</td>\n",
       "      <td>9</td>\n",
       "      <td>Yes</td>\n",
       "      <td>...</td>\n",
       "      <td>No</td>\n",
       "      <td>No</td>\n",
       "      <td>Yes</td>\n",
       "      <td>No</td>\n",
       "      <td>59.9</td>\n",
       "      <td>542.4</td>\n",
       "      <td>No</td>\n",
       "      <td>Mailed check</td>\n",
       "      <td>Month-to-month</td>\n",
       "      <td>DSL</td>\n",
       "    </tr>\n",
       "    <tr>\n",
       "      <td>1</td>\n",
       "      <td>1</td>\n",
       "      <td>1</td>\n",
       "      <td>4</td>\n",
       "      <td>0013-MHZWF</td>\n",
       "      <td>Female</td>\n",
       "      <td>0</td>\n",
       "      <td>No</td>\n",
       "      <td>Yes</td>\n",
       "      <td>9</td>\n",
       "      <td>Yes</td>\n",
       "      <td>...</td>\n",
       "      <td>Yes</td>\n",
       "      <td>Yes</td>\n",
       "      <td>Yes</td>\n",
       "      <td>Yes</td>\n",
       "      <td>69.4</td>\n",
       "      <td>571.45</td>\n",
       "      <td>No</td>\n",
       "      <td>Credit card (automatic)</td>\n",
       "      <td>Month-to-month</td>\n",
       "      <td>DSL</td>\n",
       "    </tr>\n",
       "    <tr>\n",
       "      <td>2</td>\n",
       "      <td>1</td>\n",
       "      <td>1</td>\n",
       "      <td>1</td>\n",
       "      <td>0015-UOCOJ</td>\n",
       "      <td>Female</td>\n",
       "      <td>1</td>\n",
       "      <td>No</td>\n",
       "      <td>No</td>\n",
       "      <td>7</td>\n",
       "      <td>Yes</td>\n",
       "      <td>...</td>\n",
       "      <td>No</td>\n",
       "      <td>No</td>\n",
       "      <td>No</td>\n",
       "      <td>Yes</td>\n",
       "      <td>48.2</td>\n",
       "      <td>340.35</td>\n",
       "      <td>No</td>\n",
       "      <td>Electronic check</td>\n",
       "      <td>Month-to-month</td>\n",
       "      <td>DSL</td>\n",
       "    </tr>\n",
       "    <tr>\n",
       "      <td>3</td>\n",
       "      <td>1</td>\n",
       "      <td>1</td>\n",
       "      <td>1</td>\n",
       "      <td>0023-HGHWL</td>\n",
       "      <td>Male</td>\n",
       "      <td>1</td>\n",
       "      <td>No</td>\n",
       "      <td>No</td>\n",
       "      <td>1</td>\n",
       "      <td>No</td>\n",
       "      <td>...</td>\n",
       "      <td>No</td>\n",
       "      <td>No</td>\n",
       "      <td>No</td>\n",
       "      <td>Yes</td>\n",
       "      <td>25.1</td>\n",
       "      <td>25.1</td>\n",
       "      <td>Yes</td>\n",
       "      <td>Electronic check</td>\n",
       "      <td>Month-to-month</td>\n",
       "      <td>DSL</td>\n",
       "    </tr>\n",
       "    <tr>\n",
       "      <td>4</td>\n",
       "      <td>1</td>\n",
       "      <td>1</td>\n",
       "      <td>3</td>\n",
       "      <td>0032-PGELS</td>\n",
       "      <td>Female</td>\n",
       "      <td>0</td>\n",
       "      <td>Yes</td>\n",
       "      <td>Yes</td>\n",
       "      <td>1</td>\n",
       "      <td>No</td>\n",
       "      <td>...</td>\n",
       "      <td>No</td>\n",
       "      <td>No</td>\n",
       "      <td>No</td>\n",
       "      <td>No</td>\n",
       "      <td>30.5</td>\n",
       "      <td>30.5</td>\n",
       "      <td>Yes</td>\n",
       "      <td>Bank transfer (automatic)</td>\n",
       "      <td>Month-to-month</td>\n",
       "      <td>DSL</td>\n",
       "    </tr>\n",
       "  </tbody>\n",
       "</table>\n",
       "<p>5 rows × 24 columns</p>\n",
       "</div>"
      ],
      "text/plain": [
       "   internet_service_type_id  contract_type_id  payment_type_id customer_id  \\\n",
       "0                         1                 1                2  0003-MKNFE   \n",
       "1                         1                 1                4  0013-MHZWF   \n",
       "2                         1                 1                1  0015-UOCOJ   \n",
       "3                         1                 1                1  0023-HGHWL   \n",
       "4                         1                 1                3  0032-PGELS   \n",
       "\n",
       "   gender  senior_citizen partner dependents  tenure phone_service  ...  \\\n",
       "0    Male               0      No         No       9           Yes  ...   \n",
       "1  Female               0      No        Yes       9           Yes  ...   \n",
       "2  Female               1      No         No       7           Yes  ...   \n",
       "3    Male               1      No         No       1            No  ...   \n",
       "4  Female               0     Yes        Yes       1            No  ...   \n",
       "\n",
       "  tech_support streaming_tv streaming_movies paperless_billing  \\\n",
       "0           No           No              Yes                No   \n",
       "1          Yes          Yes              Yes               Yes   \n",
       "2           No           No               No               Yes   \n",
       "3           No           No               No               Yes   \n",
       "4           No           No               No                No   \n",
       "\n",
       "  monthly_charges total_charges churn               payment_type  \\\n",
       "0            59.9         542.4    No               Mailed check   \n",
       "1            69.4        571.45    No    Credit card (automatic)   \n",
       "2            48.2        340.35    No           Electronic check   \n",
       "3            25.1          25.1   Yes           Electronic check   \n",
       "4            30.5          30.5   Yes  Bank transfer (automatic)   \n",
       "\n",
       "    contract_type internet_service_type  \n",
       "0  Month-to-month                   DSL  \n",
       "1  Month-to-month                   DSL  \n",
       "2  Month-to-month                   DSL  \n",
       "3  Month-to-month                   DSL  \n",
       "4  Month-to-month                   DSL  \n",
       "\n",
       "[5 rows x 24 columns]"
      ]
     },
     "execution_count": 2,
     "metadata": {},
     "output_type": "execute_result"
    }
   ],
   "source": [
    "# Acquiring the data, checking out the shape and the first five rows\n",
    "\n",
    "df = acquire.get_telco_data()\n",
    "print(df.shape)\n",
    "df.head()"
   ]
  },
  {
   "cell_type": "code",
   "execution_count": 3,
   "metadata": {},
   "outputs": [],
   "source": [
    "# Inspect values and dtypes\n",
    "\n",
    "# for col in df.columns:\n",
    "#     print(col)\n",
    "#     print(df[col].value_counts(dropna=False))\n",
    "#     print('----------')"
   ]
  },
  {
   "cell_type": "markdown",
   "metadata": {},
   "source": [
    "## Acquire Takeaways\n",
    "\n",
    "- After examining the values and data types of the data I acquired, I want to do the following in prepare:\n",
    "\n",
    "    - Convert 'online_security','online_backup', 'device_protection', 'tech_support' from `yes` and `no` values to 1 and 0.\n",
    "    \n",
    "    - I'm going to drop `total_charges` because it is calculated from `monthly_charges` and `tenure_months`.\n",
    "    \n",
    "    - I'm going to drop `customer_id`."
   ]
  },
  {
   "cell_type": "code",
   "execution_count": 4,
   "metadata": {},
   "outputs": [
    {
     "name": "stdout",
     "output_type": "stream",
     "text": [
      "<class 'pandas.core.frame.DataFrame'>\n",
      "RangeIndex: 7043 entries, 0 to 7042\n",
      "Data columns (total 24 columns):\n",
      "internet_service_type_id    7043 non-null int64\n",
      "contract_type_id            7043 non-null int64\n",
      "payment_type_id             7043 non-null int64\n",
      "customer_id                 7043 non-null object\n",
      "gender                      7043 non-null object\n",
      "senior_citizen              7043 non-null int64\n",
      "partner                     7043 non-null object\n",
      "dependents                  7043 non-null object\n",
      "tenure                      7043 non-null int64\n",
      "phone_service               7043 non-null object\n",
      "multiple_lines              7043 non-null object\n",
      "online_security             7043 non-null object\n",
      "online_backup               7043 non-null object\n",
      "device_protection           7043 non-null object\n",
      "tech_support                7043 non-null object\n",
      "streaming_tv                7043 non-null object\n",
      "streaming_movies            7043 non-null object\n",
      "paperless_billing           7043 non-null object\n",
      "monthly_charges             7043 non-null float64\n",
      "total_charges               7043 non-null object\n",
      "churn                       7043 non-null object\n",
      "payment_type                7043 non-null object\n",
      "contract_type               7043 non-null object\n",
      "internet_service_type       7043 non-null object\n",
      "dtypes: float64(1), int64(5), object(18)\n",
      "memory usage: 1.3+ MB\n"
     ]
    }
   ],
   "source": [
    "df.info()"
   ]
  },
  {
   "cell_type": "code",
   "execution_count": 5,
   "metadata": {},
   "outputs": [
    {
     "data": {
      "text/plain": [
       "internet_service_type_id       3\n",
       "contract_type_id               3\n",
       "payment_type_id                4\n",
       "customer_id                 7043\n",
       "gender                         2\n",
       "senior_citizen                 2\n",
       "partner                        2\n",
       "dependents                     2\n",
       "tenure                        73\n",
       "phone_service                  2\n",
       "multiple_lines                 3\n",
       "online_security                3\n",
       "online_backup                  3\n",
       "device_protection              3\n",
       "tech_support                   3\n",
       "streaming_tv                   3\n",
       "streaming_movies               3\n",
       "paperless_billing              2\n",
       "monthly_charges             1585\n",
       "total_charges               6531\n",
       "churn                          2\n",
       "payment_type                   4\n",
       "contract_type                  3\n",
       "internet_service_type          3\n",
       "dtype: int64"
      ]
     },
     "execution_count": 5,
     "metadata": {},
     "output_type": "execute_result"
    }
   ],
   "source": [
    "df.nunique()"
   ]
  },
  {
   "cell_type": "code",
   "execution_count": 6,
   "metadata": {},
   "outputs": [
    {
     "data": {
      "text/html": [
       "<div>\n",
       "<style scoped>\n",
       "    .dataframe tbody tr th:only-of-type {\n",
       "        vertical-align: middle;\n",
       "    }\n",
       "\n",
       "    .dataframe tbody tr th {\n",
       "        vertical-align: top;\n",
       "    }\n",
       "\n",
       "    .dataframe thead th {\n",
       "        text-align: right;\n",
       "    }\n",
       "</style>\n",
       "<table border=\"1\" class=\"dataframe\">\n",
       "  <thead>\n",
       "    <tr style=\"text-align: right;\">\n",
       "      <th></th>\n",
       "      <th>internet_service_type_id</th>\n",
       "      <th>contract_type_id</th>\n",
       "      <th>payment_type_id</th>\n",
       "      <th>customer_id</th>\n",
       "      <th>gender</th>\n",
       "      <th>senior_citizen</th>\n",
       "      <th>partner</th>\n",
       "      <th>dependents</th>\n",
       "      <th>tenure</th>\n",
       "      <th>phone_service</th>\n",
       "      <th>...</th>\n",
       "      <th>tech_support</th>\n",
       "      <th>streaming_tv</th>\n",
       "      <th>streaming_movies</th>\n",
       "      <th>paperless_billing</th>\n",
       "      <th>monthly_charges</th>\n",
       "      <th>total_charges</th>\n",
       "      <th>churn</th>\n",
       "      <th>payment_type</th>\n",
       "      <th>contract_type</th>\n",
       "      <th>internet_service_type</th>\n",
       "    </tr>\n",
       "  </thead>\n",
       "  <tbody>\n",
       "    <tr>\n",
       "      <td>count</td>\n",
       "      <td>7043.000000</td>\n",
       "      <td>7043.000000</td>\n",
       "      <td>7043.000000</td>\n",
       "      <td>7043</td>\n",
       "      <td>7043</td>\n",
       "      <td>7043.000000</td>\n",
       "      <td>7043</td>\n",
       "      <td>7043</td>\n",
       "      <td>7043.000000</td>\n",
       "      <td>7043</td>\n",
       "      <td>...</td>\n",
       "      <td>7043</td>\n",
       "      <td>7043</td>\n",
       "      <td>7043</td>\n",
       "      <td>7043</td>\n",
       "      <td>7043.000000</td>\n",
       "      <td>7043</td>\n",
       "      <td>7043</td>\n",
       "      <td>7043</td>\n",
       "      <td>7043</td>\n",
       "      <td>7043</td>\n",
       "    </tr>\n",
       "    <tr>\n",
       "      <td>unique</td>\n",
       "      <td>NaN</td>\n",
       "      <td>NaN</td>\n",
       "      <td>NaN</td>\n",
       "      <td>7043</td>\n",
       "      <td>2</td>\n",
       "      <td>NaN</td>\n",
       "      <td>2</td>\n",
       "      <td>2</td>\n",
       "      <td>NaN</td>\n",
       "      <td>2</td>\n",
       "      <td>...</td>\n",
       "      <td>3</td>\n",
       "      <td>3</td>\n",
       "      <td>3</td>\n",
       "      <td>2</td>\n",
       "      <td>NaN</td>\n",
       "      <td>6531</td>\n",
       "      <td>2</td>\n",
       "      <td>4</td>\n",
       "      <td>3</td>\n",
       "      <td>3</td>\n",
       "    </tr>\n",
       "    <tr>\n",
       "      <td>top</td>\n",
       "      <td>NaN</td>\n",
       "      <td>NaN</td>\n",
       "      <td>NaN</td>\n",
       "      <td>3853-LYGAM</td>\n",
       "      <td>Male</td>\n",
       "      <td>NaN</td>\n",
       "      <td>No</td>\n",
       "      <td>No</td>\n",
       "      <td>NaN</td>\n",
       "      <td>Yes</td>\n",
       "      <td>...</td>\n",
       "      <td>No</td>\n",
       "      <td>No</td>\n",
       "      <td>No</td>\n",
       "      <td>Yes</td>\n",
       "      <td>NaN</td>\n",
       "      <td>20.2</td>\n",
       "      <td>No</td>\n",
       "      <td>Electronic check</td>\n",
       "      <td>Month-to-month</td>\n",
       "      <td>Fiber optic</td>\n",
       "    </tr>\n",
       "    <tr>\n",
       "      <td>freq</td>\n",
       "      <td>NaN</td>\n",
       "      <td>NaN</td>\n",
       "      <td>NaN</td>\n",
       "      <td>1</td>\n",
       "      <td>3555</td>\n",
       "      <td>NaN</td>\n",
       "      <td>3641</td>\n",
       "      <td>4933</td>\n",
       "      <td>NaN</td>\n",
       "      <td>6361</td>\n",
       "      <td>...</td>\n",
       "      <td>3473</td>\n",
       "      <td>2810</td>\n",
       "      <td>2785</td>\n",
       "      <td>4171</td>\n",
       "      <td>NaN</td>\n",
       "      <td>11</td>\n",
       "      <td>5174</td>\n",
       "      <td>2365</td>\n",
       "      <td>3875</td>\n",
       "      <td>3096</td>\n",
       "    </tr>\n",
       "    <tr>\n",
       "      <td>mean</td>\n",
       "      <td>1.872923</td>\n",
       "      <td>1.690473</td>\n",
       "      <td>2.315633</td>\n",
       "      <td>NaN</td>\n",
       "      <td>NaN</td>\n",
       "      <td>0.162147</td>\n",
       "      <td>NaN</td>\n",
       "      <td>NaN</td>\n",
       "      <td>32.371149</td>\n",
       "      <td>NaN</td>\n",
       "      <td>...</td>\n",
       "      <td>NaN</td>\n",
       "      <td>NaN</td>\n",
       "      <td>NaN</td>\n",
       "      <td>NaN</td>\n",
       "      <td>64.761692</td>\n",
       "      <td>NaN</td>\n",
       "      <td>NaN</td>\n",
       "      <td>NaN</td>\n",
       "      <td>NaN</td>\n",
       "      <td>NaN</td>\n",
       "    </tr>\n",
       "    <tr>\n",
       "      <td>std</td>\n",
       "      <td>0.737796</td>\n",
       "      <td>0.833755</td>\n",
       "      <td>1.148907</td>\n",
       "      <td>NaN</td>\n",
       "      <td>NaN</td>\n",
       "      <td>0.368612</td>\n",
       "      <td>NaN</td>\n",
       "      <td>NaN</td>\n",
       "      <td>24.559481</td>\n",
       "      <td>NaN</td>\n",
       "      <td>...</td>\n",
       "      <td>NaN</td>\n",
       "      <td>NaN</td>\n",
       "      <td>NaN</td>\n",
       "      <td>NaN</td>\n",
       "      <td>30.090047</td>\n",
       "      <td>NaN</td>\n",
       "      <td>NaN</td>\n",
       "      <td>NaN</td>\n",
       "      <td>NaN</td>\n",
       "      <td>NaN</td>\n",
       "    </tr>\n",
       "    <tr>\n",
       "      <td>min</td>\n",
       "      <td>1.000000</td>\n",
       "      <td>1.000000</td>\n",
       "      <td>1.000000</td>\n",
       "      <td>NaN</td>\n",
       "      <td>NaN</td>\n",
       "      <td>0.000000</td>\n",
       "      <td>NaN</td>\n",
       "      <td>NaN</td>\n",
       "      <td>0.000000</td>\n",
       "      <td>NaN</td>\n",
       "      <td>...</td>\n",
       "      <td>NaN</td>\n",
       "      <td>NaN</td>\n",
       "      <td>NaN</td>\n",
       "      <td>NaN</td>\n",
       "      <td>18.250000</td>\n",
       "      <td>NaN</td>\n",
       "      <td>NaN</td>\n",
       "      <td>NaN</td>\n",
       "      <td>NaN</td>\n",
       "      <td>NaN</td>\n",
       "    </tr>\n",
       "    <tr>\n",
       "      <td>25%</td>\n",
       "      <td>1.000000</td>\n",
       "      <td>1.000000</td>\n",
       "      <td>1.000000</td>\n",
       "      <td>NaN</td>\n",
       "      <td>NaN</td>\n",
       "      <td>0.000000</td>\n",
       "      <td>NaN</td>\n",
       "      <td>NaN</td>\n",
       "      <td>9.000000</td>\n",
       "      <td>NaN</td>\n",
       "      <td>...</td>\n",
       "      <td>NaN</td>\n",
       "      <td>NaN</td>\n",
       "      <td>NaN</td>\n",
       "      <td>NaN</td>\n",
       "      <td>35.500000</td>\n",
       "      <td>NaN</td>\n",
       "      <td>NaN</td>\n",
       "      <td>NaN</td>\n",
       "      <td>NaN</td>\n",
       "      <td>NaN</td>\n",
       "    </tr>\n",
       "    <tr>\n",
       "      <td>50%</td>\n",
       "      <td>2.000000</td>\n",
       "      <td>1.000000</td>\n",
       "      <td>2.000000</td>\n",
       "      <td>NaN</td>\n",
       "      <td>NaN</td>\n",
       "      <td>0.000000</td>\n",
       "      <td>NaN</td>\n",
       "      <td>NaN</td>\n",
       "      <td>29.000000</td>\n",
       "      <td>NaN</td>\n",
       "      <td>...</td>\n",
       "      <td>NaN</td>\n",
       "      <td>NaN</td>\n",
       "      <td>NaN</td>\n",
       "      <td>NaN</td>\n",
       "      <td>70.350000</td>\n",
       "      <td>NaN</td>\n",
       "      <td>NaN</td>\n",
       "      <td>NaN</td>\n",
       "      <td>NaN</td>\n",
       "      <td>NaN</td>\n",
       "    </tr>\n",
       "    <tr>\n",
       "      <td>75%</td>\n",
       "      <td>2.000000</td>\n",
       "      <td>2.000000</td>\n",
       "      <td>3.000000</td>\n",
       "      <td>NaN</td>\n",
       "      <td>NaN</td>\n",
       "      <td>0.000000</td>\n",
       "      <td>NaN</td>\n",
       "      <td>NaN</td>\n",
       "      <td>55.000000</td>\n",
       "      <td>NaN</td>\n",
       "      <td>...</td>\n",
       "      <td>NaN</td>\n",
       "      <td>NaN</td>\n",
       "      <td>NaN</td>\n",
       "      <td>NaN</td>\n",
       "      <td>89.850000</td>\n",
       "      <td>NaN</td>\n",
       "      <td>NaN</td>\n",
       "      <td>NaN</td>\n",
       "      <td>NaN</td>\n",
       "      <td>NaN</td>\n",
       "    </tr>\n",
       "    <tr>\n",
       "      <td>max</td>\n",
       "      <td>3.000000</td>\n",
       "      <td>3.000000</td>\n",
       "      <td>4.000000</td>\n",
       "      <td>NaN</td>\n",
       "      <td>NaN</td>\n",
       "      <td>1.000000</td>\n",
       "      <td>NaN</td>\n",
       "      <td>NaN</td>\n",
       "      <td>72.000000</td>\n",
       "      <td>NaN</td>\n",
       "      <td>...</td>\n",
       "      <td>NaN</td>\n",
       "      <td>NaN</td>\n",
       "      <td>NaN</td>\n",
       "      <td>NaN</td>\n",
       "      <td>118.750000</td>\n",
       "      <td>NaN</td>\n",
       "      <td>NaN</td>\n",
       "      <td>NaN</td>\n",
       "      <td>NaN</td>\n",
       "      <td>NaN</td>\n",
       "    </tr>\n",
       "  </tbody>\n",
       "</table>\n",
       "<p>11 rows × 24 columns</p>\n",
       "</div>"
      ],
      "text/plain": [
       "        internet_service_type_id  contract_type_id  payment_type_id  \\\n",
       "count                7043.000000       7043.000000      7043.000000   \n",
       "unique                       NaN               NaN              NaN   \n",
       "top                          NaN               NaN              NaN   \n",
       "freq                         NaN               NaN              NaN   \n",
       "mean                    1.872923          1.690473         2.315633   \n",
       "std                     0.737796          0.833755         1.148907   \n",
       "min                     1.000000          1.000000         1.000000   \n",
       "25%                     1.000000          1.000000         1.000000   \n",
       "50%                     2.000000          1.000000         2.000000   \n",
       "75%                     2.000000          2.000000         3.000000   \n",
       "max                     3.000000          3.000000         4.000000   \n",
       "\n",
       "       customer_id gender  senior_citizen partner dependents       tenure  \\\n",
       "count         7043   7043     7043.000000    7043       7043  7043.000000   \n",
       "unique        7043      2             NaN       2          2          NaN   \n",
       "top     3853-LYGAM   Male             NaN      No         No          NaN   \n",
       "freq             1   3555             NaN    3641       4933          NaN   \n",
       "mean           NaN    NaN        0.162147     NaN        NaN    32.371149   \n",
       "std            NaN    NaN        0.368612     NaN        NaN    24.559481   \n",
       "min            NaN    NaN        0.000000     NaN        NaN     0.000000   \n",
       "25%            NaN    NaN        0.000000     NaN        NaN     9.000000   \n",
       "50%            NaN    NaN        0.000000     NaN        NaN    29.000000   \n",
       "75%            NaN    NaN        0.000000     NaN        NaN    55.000000   \n",
       "max            NaN    NaN        1.000000     NaN        NaN    72.000000   \n",
       "\n",
       "       phone_service  ... tech_support streaming_tv streaming_movies  \\\n",
       "count           7043  ...         7043         7043             7043   \n",
       "unique             2  ...            3            3                3   \n",
       "top              Yes  ...           No           No               No   \n",
       "freq            6361  ...         3473         2810             2785   \n",
       "mean             NaN  ...          NaN          NaN              NaN   \n",
       "std              NaN  ...          NaN          NaN              NaN   \n",
       "min              NaN  ...          NaN          NaN              NaN   \n",
       "25%              NaN  ...          NaN          NaN              NaN   \n",
       "50%              NaN  ...          NaN          NaN              NaN   \n",
       "75%              NaN  ...          NaN          NaN              NaN   \n",
       "max              NaN  ...          NaN          NaN              NaN   \n",
       "\n",
       "       paperless_billing monthly_charges total_charges churn  \\\n",
       "count               7043     7043.000000          7043  7043   \n",
       "unique                 2             NaN          6531     2   \n",
       "top                  Yes             NaN          20.2    No   \n",
       "freq                4171             NaN            11  5174   \n",
       "mean                 NaN       64.761692           NaN   NaN   \n",
       "std                  NaN       30.090047           NaN   NaN   \n",
       "min                  NaN       18.250000           NaN   NaN   \n",
       "25%                  NaN       35.500000           NaN   NaN   \n",
       "50%                  NaN       70.350000           NaN   NaN   \n",
       "75%                  NaN       89.850000           NaN   NaN   \n",
       "max                  NaN      118.750000           NaN   NaN   \n",
       "\n",
       "            payment_type   contract_type internet_service_type  \n",
       "count               7043            7043                  7043  \n",
       "unique                 4               3                     3  \n",
       "top     Electronic check  Month-to-month           Fiber optic  \n",
       "freq                2365            3875                  3096  \n",
       "mean                 NaN             NaN                   NaN  \n",
       "std                  NaN             NaN                   NaN  \n",
       "min                  NaN             NaN                   NaN  \n",
       "25%                  NaN             NaN                   NaN  \n",
       "50%                  NaN             NaN                   NaN  \n",
       "75%                  NaN             NaN                   NaN  \n",
       "max                  NaN             NaN                   NaN  \n",
       "\n",
       "[11 rows x 24 columns]"
      ]
     },
     "execution_count": 6,
     "metadata": {},
     "output_type": "execute_result"
    }
   ],
   "source": [
    "df.describe(include='all')"
   ]
  },
  {
   "cell_type": "code",
   "execution_count": 7,
   "metadata": {},
   "outputs": [
    {
     "data": {
      "text/html": [
       "<div>\n",
       "<style scoped>\n",
       "    .dataframe tbody tr th:only-of-type {\n",
       "        vertical-align: middle;\n",
       "    }\n",
       "\n",
       "    .dataframe tbody tr th {\n",
       "        vertical-align: top;\n",
       "    }\n",
       "\n",
       "    .dataframe thead th {\n",
       "        text-align: right;\n",
       "    }\n",
       "</style>\n",
       "<table border=\"1\" class=\"dataframe\">\n",
       "  <thead>\n",
       "    <tr style=\"text-align: right;\">\n",
       "      <th></th>\n",
       "      <th>internet_service_type_id</th>\n",
       "      <th>contract_type_id</th>\n",
       "      <th>payment_type_id</th>\n",
       "      <th>customer_id</th>\n",
       "      <th>gender</th>\n",
       "      <th>senior_citizen</th>\n",
       "      <th>partner</th>\n",
       "      <th>dependents</th>\n",
       "      <th>tenure</th>\n",
       "      <th>phone_service</th>\n",
       "      <th>...</th>\n",
       "      <th>tech_support</th>\n",
       "      <th>streaming_tv</th>\n",
       "      <th>streaming_movies</th>\n",
       "      <th>paperless_billing</th>\n",
       "      <th>monthly_charges</th>\n",
       "      <th>total_charges</th>\n",
       "      <th>churn</th>\n",
       "      <th>payment_type</th>\n",
       "      <th>contract_type</th>\n",
       "      <th>internet_service_type</th>\n",
       "    </tr>\n",
       "  </thead>\n",
       "  <tbody>\n",
       "    <tr>\n",
       "      <td>0</td>\n",
       "      <td>1</td>\n",
       "      <td>1</td>\n",
       "      <td>2</td>\n",
       "      <td>0003-MKNFE</td>\n",
       "      <td>Male</td>\n",
       "      <td>0</td>\n",
       "      <td>No</td>\n",
       "      <td>No</td>\n",
       "      <td>9</td>\n",
       "      <td>Yes</td>\n",
       "      <td>...</td>\n",
       "      <td>No</td>\n",
       "      <td>No</td>\n",
       "      <td>Yes</td>\n",
       "      <td>No</td>\n",
       "      <td>59.9</td>\n",
       "      <td>542.4</td>\n",
       "      <td>No</td>\n",
       "      <td>Mailed check</td>\n",
       "      <td>Month-to-month</td>\n",
       "      <td>DSL</td>\n",
       "    </tr>\n",
       "    <tr>\n",
       "      <td>1</td>\n",
       "      <td>1</td>\n",
       "      <td>1</td>\n",
       "      <td>4</td>\n",
       "      <td>0013-MHZWF</td>\n",
       "      <td>Female</td>\n",
       "      <td>0</td>\n",
       "      <td>No</td>\n",
       "      <td>Yes</td>\n",
       "      <td>9</td>\n",
       "      <td>Yes</td>\n",
       "      <td>...</td>\n",
       "      <td>Yes</td>\n",
       "      <td>Yes</td>\n",
       "      <td>Yes</td>\n",
       "      <td>Yes</td>\n",
       "      <td>69.4</td>\n",
       "      <td>571.45</td>\n",
       "      <td>No</td>\n",
       "      <td>Credit card (automatic)</td>\n",
       "      <td>Month-to-month</td>\n",
       "      <td>DSL</td>\n",
       "    </tr>\n",
       "    <tr>\n",
       "      <td>2</td>\n",
       "      <td>1</td>\n",
       "      <td>1</td>\n",
       "      <td>1</td>\n",
       "      <td>0015-UOCOJ</td>\n",
       "      <td>Female</td>\n",
       "      <td>1</td>\n",
       "      <td>No</td>\n",
       "      <td>No</td>\n",
       "      <td>7</td>\n",
       "      <td>Yes</td>\n",
       "      <td>...</td>\n",
       "      <td>No</td>\n",
       "      <td>No</td>\n",
       "      <td>No</td>\n",
       "      <td>Yes</td>\n",
       "      <td>48.2</td>\n",
       "      <td>340.35</td>\n",
       "      <td>No</td>\n",
       "      <td>Electronic check</td>\n",
       "      <td>Month-to-month</td>\n",
       "      <td>DSL</td>\n",
       "    </tr>\n",
       "    <tr>\n",
       "      <td>3</td>\n",
       "      <td>1</td>\n",
       "      <td>1</td>\n",
       "      <td>1</td>\n",
       "      <td>0023-HGHWL</td>\n",
       "      <td>Male</td>\n",
       "      <td>1</td>\n",
       "      <td>No</td>\n",
       "      <td>No</td>\n",
       "      <td>1</td>\n",
       "      <td>No</td>\n",
       "      <td>...</td>\n",
       "      <td>No</td>\n",
       "      <td>No</td>\n",
       "      <td>No</td>\n",
       "      <td>Yes</td>\n",
       "      <td>25.1</td>\n",
       "      <td>25.1</td>\n",
       "      <td>Yes</td>\n",
       "      <td>Electronic check</td>\n",
       "      <td>Month-to-month</td>\n",
       "      <td>DSL</td>\n",
       "    </tr>\n",
       "    <tr>\n",
       "      <td>4</td>\n",
       "      <td>1</td>\n",
       "      <td>1</td>\n",
       "      <td>3</td>\n",
       "      <td>0032-PGELS</td>\n",
       "      <td>Female</td>\n",
       "      <td>0</td>\n",
       "      <td>Yes</td>\n",
       "      <td>Yes</td>\n",
       "      <td>1</td>\n",
       "      <td>No</td>\n",
       "      <td>...</td>\n",
       "      <td>No</td>\n",
       "      <td>No</td>\n",
       "      <td>No</td>\n",
       "      <td>No</td>\n",
       "      <td>30.5</td>\n",
       "      <td>30.5</td>\n",
       "      <td>Yes</td>\n",
       "      <td>Bank transfer (automatic)</td>\n",
       "      <td>Month-to-month</td>\n",
       "      <td>DSL</td>\n",
       "    </tr>\n",
       "  </tbody>\n",
       "</table>\n",
       "<p>5 rows × 24 columns</p>\n",
       "</div>"
      ],
      "text/plain": [
       "   internet_service_type_id  contract_type_id  payment_type_id customer_id  \\\n",
       "0                         1                 1                2  0003-MKNFE   \n",
       "1                         1                 1                4  0013-MHZWF   \n",
       "2                         1                 1                1  0015-UOCOJ   \n",
       "3                         1                 1                1  0023-HGHWL   \n",
       "4                         1                 1                3  0032-PGELS   \n",
       "\n",
       "   gender  senior_citizen partner dependents  tenure phone_service  ...  \\\n",
       "0    Male               0      No         No       9           Yes  ...   \n",
       "1  Female               0      No        Yes       9           Yes  ...   \n",
       "2  Female               1      No         No       7           Yes  ...   \n",
       "3    Male               1      No         No       1            No  ...   \n",
       "4  Female               0     Yes        Yes       1            No  ...   \n",
       "\n",
       "  tech_support streaming_tv streaming_movies paperless_billing  \\\n",
       "0           No           No              Yes                No   \n",
       "1          Yes          Yes              Yes               Yes   \n",
       "2           No           No               No               Yes   \n",
       "3           No           No               No               Yes   \n",
       "4           No           No               No                No   \n",
       "\n",
       "  monthly_charges total_charges churn               payment_type  \\\n",
       "0            59.9         542.4    No               Mailed check   \n",
       "1            69.4        571.45    No    Credit card (automatic)   \n",
       "2            48.2        340.35    No           Electronic check   \n",
       "3            25.1          25.1   Yes           Electronic check   \n",
       "4            30.5          30.5   Yes  Bank transfer (automatic)   \n",
       "\n",
       "    contract_type internet_service_type  \n",
       "0  Month-to-month                   DSL  \n",
       "1  Month-to-month                   DSL  \n",
       "2  Month-to-month                   DSL  \n",
       "3  Month-to-month                   DSL  \n",
       "4  Month-to-month                   DSL  \n",
       "\n",
       "[5 rows x 24 columns]"
      ]
     },
     "execution_count": 7,
     "metadata": {},
     "output_type": "execute_result"
    }
   ],
   "source": [
    "# Print a concise summary of our telco df - the column dtypes, non-null values\n",
    "df.head()"
   ]
  },
  {
   "cell_type": "code",
   "execution_count": 8,
   "metadata": {},
   "outputs": [],
   "source": [
    "#pd.get_dummies(df, columns=['internet_service_type_id', 'online_security', 'tech_support'], drop_first=[True, True, True])"
   ]
  },
  {
   "cell_type": "code",
   "execution_count": 9,
   "metadata": {},
   "outputs": [],
   "source": [
    "#pd.get_dummies(df[['internet_service_type_id', 'online_security', 'tech_support']], prefix='d', drop_first=[True, True])"
   ]
  },
  {
   "cell_type": "code",
   "execution_count": 10,
   "metadata": {},
   "outputs": [
    {
     "data": {
      "image/png": "[encoded data removed]",
      "text/plain": [
       "<Figure size 1800x1080 with 9 Axes>"
      ]
     },
     "metadata": {
      "needs_background": "light"
     },
     "output_type": "display_data"
    }
   ],
   "source": [
    "# Plot distribution with subplots of histograms of features\n",
    "\n",
    "# sets size\n",
    "plt.subplots(figsize=(25, 15))\n",
    "\n",
    "\n",
    "plt.subplot(3,3,1);\n",
    "line1 = plt.hist(df.monthly_charges)\n",
    "plt.title('monthly_charges');\n",
    "\n",
    "plt.subplot(3,3,2);\n",
    "line2 = plt.hist(df.tenure);\n",
    "plt.title('tenure');\n",
    "\n",
    "plt.subplot(3,3,3);\n",
    "line3 = plt.hist(df.payment_type);\n",
    "plt.title('payment_type');\n",
    "\n",
    "plt.subplot(3,3,4);\n",
    "line4 = plt.hist(df.contract_type);\n",
    "plt.title('contract_type');\n",
    "\n",
    "plt.subplot(3,3,5);\n",
    "line1 = plt.hist(df.internet_service_type)\n",
    "plt.title('internet_service_type');\n",
    "\n",
    "plt.subplot(3,3,6);\n",
    "line2 = plt.hist(df.streaming_movies);\n",
    "plt.title('streaming_movies');\n",
    "\n",
    "plt.subplot(3,3,7);\n",
    "line3 = plt.hist(df.dependents);\n",
    "plt.title('dependents');\n",
    "\n",
    "plt.subplot(3,3,8);\n",
    "line4 = plt.hist(df.device_protection);\n",
    "plt.title('device_protection');\n",
    "\n",
    "plt.subplot(3,3,9);\n",
    "line4 = plt.hist(df.online_security);\n",
    "plt.title('online_security');"
   ]
  },
  {
   "cell_type": "markdown",
   "metadata": {},
   "source": [
    "# Prepare"
   ]
  },
  {
   "cell_type": "code",
   "execution_count": 11,
   "metadata": {},
   "outputs": [],
   "source": [
    "train, validate, test = prepare.telco_prep(df)"
   ]
  },
  {
   "cell_type": "code",
   "execution_count": 12,
   "metadata": {},
   "outputs": [
    {
     "name": "stdout",
     "output_type": "stream",
     "text": [
      "(3943, 26) (1691, 26) (1409, 26)\n"
     ]
    }
   ],
   "source": [
    "\n",
    "print(train.shape, validate.shape, test.shape)"
   ]
  },
  {
   "cell_type": "code",
   "execution_count": 13,
   "metadata": {},
   "outputs": [
    {
     "name": "stdout",
     "output_type": "stream",
     "text": [
      "<class 'pandas.core.frame.DataFrame'>\n",
      "Int64Index: 3943 entries, 5670 to 6867\n",
      "Data columns (total 26 columns):\n",
      "contract_type_id                 3943 non-null int64\n",
      "payment_type_id                  3943 non-null int64\n",
      "customer_id                      3943 non-null object\n",
      "partner                          3943 non-null int64\n",
      "dependents                       3943 non-null int64\n",
      "tenure_months                    3943 non-null int64\n",
      "phone_service                    3943 non-null int64\n",
      "multiple_lines                   3943 non-null object\n",
      "online_backup                    3943 non-null int64\n",
      "device_protection                3943 non-null int64\n",
      "streaming_tv                     3943 non-null int64\n",
      "streaming_movies                 3943 non-null int64\n",
      "paperless_billing                3943 non-null int64\n",
      "monthly_charges                  3943 non-null float64\n",
      "churn                            3943 non-null int64\n",
      "payment_type                     3943 non-null object\n",
      "contract_type                    3943 non-null object\n",
      "internet_service_type            3943 non-null object\n",
      "internet_service_type_id_orig    3943 non-null int64\n",
      "online_security_orig             3943 non-null int64\n",
      "tech_support_orig                3943 non-null int64\n",
      "internet_service_type_id_2       3943 non-null uint8\n",
      "internet_service_type_id_3       3943 non-null uint8\n",
      "online_security_1                3943 non-null uint8\n",
      "tech_support_1                   3943 non-null uint8\n",
      "tenure_years                     3943 non-null float64\n",
      "dtypes: float64(2), int64(15), object(5), uint8(4)\n",
      "memory usage: 723.9+ KB\n"
     ]
    }
   ],
   "source": [
    "train.info()"
   ]
  },
  {
   "cell_type": "markdown",
   "metadata": {},
   "source": [
    "# Exploration\n",
    "\n",
    "- Does having additional services increase customer loyalty?\n",
    "\n",
    "\n",
    "- Null Hypothesis: Churn is independent of added services.  \n",
    "\n",
    "\n",
    "- Alternative Hypothesis: Customers with added services are less likely to churn. \n",
    "\n"
   ]
  },
  {
   "cell_type": "code",
   "execution_count": 14,
   "metadata": {},
   "outputs": [
    {
     "name": "stdout",
     "output_type": "stream",
     "text": [
      "<class 'pandas.core.frame.DataFrame'>\n",
      "Int64Index: 3943 entries, 5670 to 6867\n",
      "Data columns (total 26 columns):\n",
      "contract_type_id                 3943 non-null int64\n",
      "payment_type_id                  3943 non-null int64\n",
      "customer_id                      3943 non-null object\n",
      "partner                          3943 non-null int64\n",
      "dependents                       3943 non-null int64\n",
      "tenure_months                    3943 non-null int64\n",
      "phone_service                    3943 non-null int64\n",
      "multiple_lines                   3943 non-null object\n",
      "online_backup                    3943 non-null int64\n",
      "device_protection                3943 non-null int64\n",
      "streaming_tv                     3943 non-null int64\n",
      "streaming_movies                 3943 non-null int64\n",
      "paperless_billing                3943 non-null int64\n",
      "monthly_charges                  3943 non-null float64\n",
      "churn                            3943 non-null int64\n",
      "payment_type                     3943 non-null object\n",
      "contract_type                    3943 non-null object\n",
      "internet_service_type            3943 non-null object\n",
      "internet_service_type_id_orig    3943 non-null int64\n",
      "online_security_orig             3943 non-null int64\n",
      "tech_support_orig                3943 non-null int64\n",
      "internet_service_type_id_2       3943 non-null uint8\n",
      "internet_service_type_id_3       3943 non-null uint8\n",
      "online_security_1                3943 non-null uint8\n",
      "tech_support_1                   3943 non-null uint8\n",
      "tenure_years                     3943 non-null float64\n",
      "dtypes: float64(2), int64(15), object(5), uint8(4)\n",
      "memory usage: 723.9+ KB\n"
     ]
    }
   ],
   "source": [
    "train.info()"
   ]
  },
  {
   "cell_type": "code",
   "execution_count": 110,
   "metadata": {},
   "outputs": [
    {
     "data": {
      "text/html": [
       "<div>\n",
       "<style scoped>\n",
       "    .dataframe tbody tr th:only-of-type {\n",
       "        vertical-align: middle;\n",
       "    }\n",
       "\n",
       "    .dataframe tbody tr th {\n",
       "        vertical-align: top;\n",
       "    }\n",
       "\n",
       "    .dataframe thead th {\n",
       "        text-align: right;\n",
       "    }\n",
       "</style>\n",
       "<table border=\"1\" class=\"dataframe\">\n",
       "  <thead>\n",
       "    <tr style=\"text-align: right;\">\n",
       "      <th></th>\n",
       "      <th>contract_type_id</th>\n",
       "      <th>payment_type_id</th>\n",
       "      <th>customer_id</th>\n",
       "      <th>partner</th>\n",
       "      <th>dependents</th>\n",
       "      <th>tenure_months</th>\n",
       "      <th>phone_service</th>\n",
       "      <th>multiple_lines</th>\n",
       "      <th>online_backup</th>\n",
       "      <th>device_protection</th>\n",
       "      <th>...</th>\n",
       "      <th>contract_type</th>\n",
       "      <th>internet_service_type</th>\n",
       "      <th>internet_service_type_id_orig</th>\n",
       "      <th>online_security_orig</th>\n",
       "      <th>tech_support_orig</th>\n",
       "      <th>internet_service_type_id_2</th>\n",
       "      <th>internet_service_type_id_3</th>\n",
       "      <th>online_security_1</th>\n",
       "      <th>tech_support_1</th>\n",
       "      <th>tenure_years</th>\n",
       "    </tr>\n",
       "  </thead>\n",
       "  <tbody>\n",
       "    <tr>\n",
       "      <td>5670</td>\n",
       "      <td>1</td>\n",
       "      <td>4</td>\n",
       "      <td>2739-CCZMB</td>\n",
       "      <td>0</td>\n",
       "      <td>1</td>\n",
       "      <td>5</td>\n",
       "      <td>1</td>\n",
       "      <td>No</td>\n",
       "      <td>0</td>\n",
       "      <td>0</td>\n",
       "      <td>...</td>\n",
       "      <td>Month-to-month</td>\n",
       "      <td>None</td>\n",
       "      <td>3</td>\n",
       "      <td>0</td>\n",
       "      <td>0</td>\n",
       "      <td>0</td>\n",
       "      <td>1</td>\n",
       "      <td>0</td>\n",
       "      <td>0</td>\n",
       "      <td>0.42</td>\n",
       "    </tr>\n",
       "  </tbody>\n",
       "</table>\n",
       "<p>1 rows × 26 columns</p>\n",
       "</div>"
      ],
      "text/plain": [
       "      contract_type_id  payment_type_id customer_id  partner  dependents  \\\n",
       "5670                 1                4  2739-CCZMB        0           1   \n",
       "\n",
       "      tenure_months  phone_service multiple_lines  online_backup  \\\n",
       "5670              5              1             No              0   \n",
       "\n",
       "      device_protection  ...   contract_type  internet_service_type  \\\n",
       "5670                  0  ...  Month-to-month                   None   \n",
       "\n",
       "      internet_service_type_id_orig  online_security_orig  tech_support_orig  \\\n",
       "5670                              3                     0                  0   \n",
       "\n",
       "     internet_service_type_id_2 internet_service_type_id_3 online_security_1  \\\n",
       "5670                          0                          1                 0   \n",
       "\n",
       "      tech_support_1  tenure_years  \n",
       "5670               0          0.42  \n",
       "\n",
       "[1 rows x 26 columns]"
      ]
     },
     "execution_count": 110,
     "metadata": {},
     "output_type": "execute_result"
    }
   ],
   "source": [
    "train.head(1)"
   ]
  },
  {
   "cell_type": "code",
   "execution_count": 15,
   "metadata": {},
   "outputs": [
    {
     "data": {
      "text/plain": [
       "<matplotlib.axes._subplots.AxesSubplot at 0x7fef135922d0>"
      ]
     },
     "execution_count": 15,
     "metadata": {},
     "output_type": "execute_result"
    },
    {
     "data": {
      "image/png": "[encoded data removed]",
      "text/plain": [
       "<Figure size 936x720 with 2 Axes>"
      ]
     },
     "metadata": {
      "needs_background": "light"
     },
     "output_type": "display_data"
    }
   ],
   "source": [
    "# Correlation heat map\n",
    "# creating the correlation of each feature against each other\n",
    "corr = train.corr()\n",
    "\n",
    "# Generate a mask for the upper triangle, prints out only the bottom triangle\n",
    "mask = np.triu(np.ones_like(corr, dtype=bool))\n",
    "\n",
    "# Set up the matplotlib figure, set size\n",
    "f, ax = plt.subplots(figsize=(13, 10))\n",
    "\n",
    "# Generate a custom diverging colormap, changing default colors\n",
    "cmap = sns.diverging_palette(250, 30, l=65, center=\"dark\", as_cmap=True)\n",
    "\n",
    "# Draw the heatmap with the mask and correct aspect ratio\n",
    "sns.heatmap(corr, mask=mask, cmap=cmap, vmax=.3, center=0,\n",
    "            square=True, linewidths=.5, cbar_kws={\"shrink\": .5})"
   ]
  },
  {
   "cell_type": "code",
   "execution_count": 16,
   "metadata": {},
   "outputs": [],
   "source": [
    "support_streaming_subset = train[['online_security_orig',\n",
    "       'online_backup', 'device_protection', 'tech_support_orig', 'streaming_tv',\n",
    "       'streaming_movies', 'churn']]"
   ]
  },
  {
   "cell_type": "code",
   "execution_count": 17,
   "metadata": {},
   "outputs": [
    {
     "data": {
      "text/plain": [
       "<matplotlib.axes._subplots.AxesSubplot at 0x7fef13235ed0>"
      ]
     },
     "execution_count": 17,
     "metadata": {},
     "output_type": "execute_result"
    },
    {
     "data": {
      "image/png": "[encoded data removed]",
      "text/plain": [
       "<Figure size 936x720 with 2 Axes>"
      ]
     },
     "metadata": {
      "needs_background": "light"
     },
     "output_type": "display_data"
    }
   ],
   "source": [
    "# Correlation heat map\n",
    "# creating the correlation of each feature against each other\n",
    "corr = support_streaming_subset.corr()\n",
    "\n",
    "# Generate a mask for the upper triangle, prints out only the bottom triangle\n",
    "mask = np.triu(np.ones_like(corr, dtype=bool))\n",
    "\n",
    "# Set up the matplotlib figure, set size\n",
    "f, ax = plt.subplots(figsize=(13, 10))\n",
    "\n",
    "# Generate a custom diverging colormap, changing default colors\n",
    "cmap = sns.diverging_palette(250, 30, l=65, center=\"dark\", as_cmap=True)\n",
    "\n",
    "# Draw the heatmap with the mask and correct aspect ratio\n",
    "sns.heatmap(corr, mask=mask, cmap=cmap, vmax=.3, center=0,\n",
    "            square=True, linewidths=.5, cbar_kws={\"shrink\": .5})"
   ]
  },
  {
   "cell_type": "markdown",
   "metadata": {},
   "source": [
    "### Takeaways from the Heatmap\n",
    "\n",
    "- I want to look further into which internet_service_type_id strongly correlates with online_security.\n",
    "\n",
    "- It looks like many of the additional features like online_security, online_backup, device_protection, tech_support, streaming_tv, and streaming_movies have a relationship with internet_service_type_id. "
   ]
  },
  {
   "cell_type": "code",
   "execution_count": 18,
   "metadata": {},
   "outputs": [
    {
     "data": {
      "image/png": "[encoded data removed]",
      "text/plain": [
       "<Figure size 1122.38x1080 with 27 Axes>"
      ]
     },
     "metadata": {
      "needs_background": "light"
     },
     "output_type": "display_data"
    }
   ],
   "source": [
    "# A quick seaborn pairplot to illustrate some features of interest\n",
    "\n",
    "sns.pairplot(data=support_streaming_subset, corner=True, hue='churn')\n",
    "plt.show()"
   ]
  },
  {
   "cell_type": "markdown",
   "metadata": {},
   "source": [
    "### Takeaways from Pairplot\n",
    "\n",
    "- I can see here that customers who have online_security, online_backup, device_protection, and/or tech_support churn less often. This may be an area to run some statistical tests.\n",
    "\n",
    "\n",
    "- It does not look like there is a big difference in churn whether customers subscribe to streaming_tv or streaming_movies services.\n",
    "\n",
    "\n",
    "- How can I find out if the same customers who have tech_support have other services as well?"
   ]
  },
  {
   "cell_type": "code",
   "execution_count": 19,
   "metadata": {},
   "outputs": [
    {
     "data": {
      "text/plain": [
       "0.2289068231841526"
      ]
     },
     "execution_count": 19,
     "metadata": {},
     "output_type": "execute_result"
    }
   ],
   "source": [
    "# 23% of customers who have online_backup services churn\n",
    "\n",
    "(train[train.online_backup == 1].churn == 1).mean()"
   ]
  },
  {
   "cell_type": "code",
   "execution_count": 20,
   "metadata": {},
   "outputs": [
    {
     "data": {
      "text/plain": [
       "0.7375095105249809"
      ]
     },
     "execution_count": 20,
     "metadata": {},
     "output_type": "execute_result"
    }
   ],
   "source": [
    "# 74% of customers who have tech_support services also have online_security services.\n",
    "\n",
    "(train.tech_support_orig == train.online_security_orig).mean()"
   ]
  },
  {
   "cell_type": "code",
   "execution_count": 21,
   "metadata": {},
   "outputs": [
    {
     "data": {
      "text/plain": [
       "0.1559726096880548"
      ]
     },
     "execution_count": 21,
     "metadata": {},
     "output_type": "execute_result"
    }
   ],
   "source": [
    "# 74% of customers who have tech_support services also have online_security services.\n",
    "\n",
    "((train.tech_support_orig == 1) & (train.online_security_orig == 1)).mean()"
   ]
  },
  {
   "cell_type": "code",
   "execution_count": null,
   "metadata": {},
   "outputs": [],
   "source": []
  },
  {
   "cell_type": "code",
   "execution_count": 22,
   "metadata": {},
   "outputs": [
    {
     "data": {
      "text/plain": [
       "0.12072026375855947"
      ]
     },
     "execution_count": 22,
     "metadata": {},
     "output_type": "execute_result"
    }
   ],
   "source": [
    "# Only 12% of Fiber Customers have tech_support.\n",
    "\n",
    "((train.tech_support_orig == 1) & (train.internet_service_type == 'Fiber optic')).mean()"
   ]
  },
  {
   "cell_type": "code",
   "execution_count": 23,
   "metadata": {},
   "outputs": [
    {
     "data": {
      "text/plain": [
       "0.1648490996703018"
      ]
     },
     "execution_count": 23,
     "metadata": {},
     "output_type": "execute_result"
    }
   ],
   "source": [
    "# 16% of DSL customers have tech_support.\n",
    "\n",
    "((train.tech_support_orig == 1) & (train.internet_service_type == 'DSL')).mean()"
   ]
  },
  {
   "cell_type": "code",
   "execution_count": 24,
   "metadata": {},
   "outputs": [
    {
     "data": {
      "text/plain": [
       "0.2855693634288613"
      ]
     },
     "execution_count": 24,
     "metadata": {},
     "output_type": "execute_result"
    }
   ],
   "source": [
    "# 29% of customers have tech_support.\n",
    "\n",
    "((train.tech_support_orig == 1) & (train.internet_service_type != 'None')).mean()"
   ]
  },
  {
   "cell_type": "code",
   "execution_count": 25,
   "metadata": {},
   "outputs": [],
   "source": [
    "cat_vars = ['churn', 'online_security_orig', 'tech_support_orig', 'online_backup', 'device_protection']\n",
    "quant_vars = ['monthly_charges', 'tenure_months']"
   ]
  },
  {
   "cell_type": "code",
   "execution_count": 26,
   "metadata": {},
   "outputs": [
    {
     "data": {
      "image/png": "[encoded data removed]",
      "text/plain": [
       "<Figure size 144x144 with 1 Axes>"
      ]
     },
     "metadata": {
      "needs_background": "light"
     },
     "output_type": "display_data"
    },
    {
     "name": "stdout",
     "output_type": "stream",
     "text": [
      "   churn  Count  Percent\n",
      "0      0   2897    73.47\n",
      "1      1   1046    26.53\n",
      "_________________________________________________________________\n"
     ]
    },
    {
     "data": {
      "image/png": "[encoded data removed]",
      "text/plain": [
       "<Figure size 144x144 with 1 Axes>"
      ]
     },
     "metadata": {
      "needs_background": "light"
     },
     "output_type": "display_data"
    },
    {
     "name": "stdout",
     "output_type": "stream",
     "text": [
      "   online_security_orig  Count  Percent\n",
      "0                     0   2804    71.11\n",
      "1                     1   1139    28.89\n",
      "_________________________________________________________________\n"
     ]
    },
    {
     "data": {
      "image/png": "[encoded data removed]",
      "text/plain": [
       "<Figure size 144x144 with 1 Axes>"
      ]
     },
     "metadata": {
      "needs_background": "light"
     },
     "output_type": "display_data"
    },
    {
     "name": "stdout",
     "output_type": "stream",
     "text": [
      "   tech_support_orig  Count  Percent\n",
      "0                  0   2817    71.44\n",
      "1                  1   1126    28.56\n",
      "_________________________________________________________________\n"
     ]
    },
    {
     "data": {
      "image/png": "[encoded data removed]",
      "text/plain": [
       "<Figure size 144x144 with 1 Axes>"
      ]
     },
     "metadata": {
      "needs_background": "light"
     },
     "output_type": "display_data"
    },
    {
     "name": "stdout",
     "output_type": "stream",
     "text": [
      "   online_backup  Count  Percent\n",
      "0              0   2580    65.43\n",
      "1              1   1363    34.57\n",
      "_________________________________________________________________\n"
     ]
    },
    {
     "data": {
      "image/png": "[encoded data removed]",
      "text/plain": [
       "<Figure size 144x144 with 1 Axes>"
      ]
     },
     "metadata": {
      "needs_background": "light"
     },
     "output_type": "display_data"
    },
    {
     "name": "stdout",
     "output_type": "stream",
     "text": [
      "   device_protection  Count  Percent\n",
      "0                  0   2610    66.19\n",
      "1                  1   1333    33.81\n",
      "_________________________________________________________________\n"
     ]
    },
    {
     "data": {
      "image/png": "[encoded data removed]",
      "text/plain": [
       "<Figure size 576x144 with 2 Axes>"
      ]
     },
     "metadata": {
      "needs_background": "light"
     },
     "output_type": "display_data"
    },
    {
     "name": "stdout",
     "output_type": "stream",
     "text": [
      "count    3943.000000\n",
      "mean       64.823497\n",
      "std        29.942691\n",
      "min        18.250000\n",
      "25%        36.350000\n",
      "50%        70.150000\n",
      "75%        89.750000\n",
      "max       118.600000\n",
      "Name: monthly_charges, dtype: float64\n"
     ]
    },
    {
     "data": {
      "image/png": "[encoded data removed]",
      "text/plain": [
       "<Figure size 576x144 with 2 Axes>"
      ]
     },
     "metadata": {
      "needs_background": "light"
     },
     "output_type": "display_data"
    },
    {
     "name": "stdout",
     "output_type": "stream",
     "text": [
      "count    3943.000000\n",
      "mean       31.931017\n",
      "std        24.365751\n",
      "min         0.000000\n",
      "25%         9.000000\n",
      "50%        28.000000\n",
      "75%        54.000000\n",
      "max        72.000000\n",
      "Name: tenure_months, dtype: float64\n"
     ]
    }
   ],
   "source": [
    "\n",
    "explore.explore_univariate(train, cat_vars, quant_vars)"
   ]
  },
  {
   "cell_type": "code",
   "execution_count": 27,
   "metadata": {},
   "outputs": [],
   "source": [
    "# Run a bivariate test\n",
    "# First take 'churn' off of the list\n",
    "cat_vars = cat_vars[1:]"
   ]
  },
  {
   "cell_type": "code",
   "execution_count": 28,
   "metadata": {},
   "outputs": [
    {
     "name": "stdout",
     "output_type": "stream",
     "text": [
      "online_security_orig \n",
      "_____________________\n",
      "\n",
      "         chi2       p-value  degrees of freedom\n",
      "0  114.851907  8.479963e-27                   1\n",
      "\n",
      "observed:\n",
      " churn                    0     1   All\n",
      "online_security_orig                  \n",
      "0                     1925   879  2804\n",
      "1                      972   167  1139\n",
      "All                   2897  1046  3943\n",
      "\n",
      "expected:\n",
      "              0           1\n",
      "0  2060.154197  743.845803\n",
      "1   836.845803  302.154197\n"
     ]
    },
    {
     "data": {
      "image/png": "[encoded data removed]",
      "text/plain": [
       "<Figure size 144x144 with 1 Axes>"
      ]
     },
     "metadata": {
      "needs_background": "light"
     },
     "output_type": "display_data"
    },
    {
     "name": "stdout",
     "output_type": "stream",
     "text": [
      "\n",
      "_____________________\n",
      "\n",
      "tech_support_orig \n",
      "_____________________\n",
      "\n",
      "         chi2       p-value  degrees of freedom\n",
      "0  111.474188  4.658311e-26                   1\n",
      "\n",
      "observed:\n",
      " churn                 0     1   All\n",
      "tech_support_orig                  \n",
      "0                  1937   880  2817\n",
      "1                   960   166  1126\n",
      "All                2897  1046  3943\n",
      "\n",
      "expected:\n",
      "              0           1\n",
      "0  2069.705554  747.294446\n",
      "1   827.294446  298.705554\n"
     ]
    },
    {
     "data": {
      "image/png": "[encoded data removed]",
      "text/plain": [
       "<Figure size 144x144 with 1 Axes>"
      ]
     },
     "metadata": {
      "needs_background": "light"
     },
     "output_type": "display_data"
    },
    {
     "name": "stdout",
     "output_type": "stream",
     "text": [
      "\n",
      "_____________________\n",
      "\n",
      "online_backup \n",
      "_____________________\n",
      "\n",
      "        chi2   p-value  degrees of freedom\n",
      "0  13.856071  0.000197                   1\n",
      "\n",
      "observed:\n",
      " churn             0     1   All\n",
      "online_backup                  \n",
      "0              1846   734  2580\n",
      "1              1051   312  1363\n",
      "All            2897  1046  3943\n",
      "\n",
      "expected:\n",
      "              0           1\n",
      "0  1895.576972  684.423028\n",
      "1  1001.423028  361.576972\n"
     ]
    },
    {
     "data": {
      "image/png": "[encoded data removed]",
      "text/plain": [
       "<Figure size 144x144 with 1 Axes>"
      ]
     },
     "metadata": {
      "needs_background": "light"
     },
     "output_type": "display_data"
    },
    {
     "name": "stdout",
     "output_type": "stream",
     "text": [
      "\n",
      "_____________________\n",
      "\n",
      "device_protection \n",
      "_____________________\n",
      "\n",
      "        chi2   p-value  degrees of freedom\n",
      "0  16.406735  0.000051                   1\n",
      "\n",
      "observed:\n",
      " churn                 0     1   All\n",
      "device_protection                  \n",
      "0                  1864   746  2610\n",
      "1                  1033   300  1333\n",
      "All                2897  1046  3943\n",
      "\n",
      "expected:\n",
      "              0           1\n",
      "0  1917.618565  692.381435\n",
      "1   979.381435  353.618565\n"
     ]
    },
    {
     "data": {
      "image/png": "[encoded data removed]",
      "text/plain": [
       "<Figure size 144x144 with 1 Axes>"
      ]
     },
     "metadata": {
      "needs_background": "light"
     },
     "output_type": "display_data"
    },
    {
     "name": "stdout",
     "output_type": "stream",
     "text": [
      "\n",
      "_____________________\n",
      "\n",
      "monthly_charges \n",
      "____________________\n",
      "\n"
     ]
    },
    {
     "data": {
      "image/png": "[encoded data removed]",
      "text/plain": [
       "<Figure size 288x288 with 1 Axes>"
      ]
     },
     "metadata": {
      "needs_background": "light"
     },
     "output_type": "display_data"
    },
    {
     "name": "stdout",
     "output_type": "stream",
     "text": [
      "        count       mean        std    min      25%    50%    75%     max\n",
      "churn                                                                    \n",
      "0      2897.0  61.413997  30.890138  18.25  25.1500  64.60  88.40  118.60\n",
      "1      1046.0  74.266444  24.823691  18.85  56.6625  79.65  94.25  118.35 \n",
      "\n",
      "\n",
      "Mann-Whitney Test:\n",
      " MannwhitneyuResult(statistic=1156450.0, pvalue=6.206014591716352e-30)\n",
      "\n",
      "____________________\n",
      "\n",
      "tenure_months \n",
      "____________________\n",
      "\n"
     ]
    },
    {
     "data": {
      "image/png": "[encoded data removed]",
      "text/plain": [
       "<Figure size 288x288 with 1 Axes>"
      ]
     },
     "metadata": {
      "needs_background": "light"
     },
     "output_type": "display_data"
    },
    {
     "name": "stdout",
     "output_type": "stream",
     "text": [
      "        count       mean        std  min   25%   50%   75%   max\n",
      "churn                                                           \n",
      "0      2897.0  36.940283  23.962669  0.0  14.0  37.0  60.0  72.0\n",
      "1      1046.0  18.057361  19.647335  1.0   2.0  10.0  30.0  72.0 \n",
      "\n",
      "\n",
      "Mann-Whitney Test:\n",
      " MannwhitneyuResult(statistic=2225608.5, pvalue=2.4298450761804645e-112)\n",
      "\n",
      "____________________\n",
      "\n"
     ]
    }
   ],
   "source": [
    "# Next, run Maggie's the awesome explore function\n",
    "explore.explore_bivariate(train, 'churn', cat_vars, quant_vars)"
   ]
  },
  {
   "cell_type": "markdown",
   "metadata": {},
   "source": [
    "### T-test\n",
    "- There is a significant difference in what Fiber Optic customers pay depending on if they have tech support or not.\n",
    "\n",
    "\n",
    "- Fiber customers with tech support pay significantly more than those without, but still have a much lower churn rate.\n",
    "\n",
    "\n",
    "- It's the same for customers with online_security."
   ]
  },
  {
   "cell_type": "code",
   "execution_count": 112,
   "metadata": {},
   "outputs": [
    {
     "data": {
      "text/plain": [
       "(1740, 26)"
      ]
     },
     "execution_count": 112,
     "metadata": {},
     "output_type": "execute_result"
    }
   ],
   "source": [
    "# t-test: Is there a difference between the means of monthly_charges for fiber customers who churn and those who don't? \n",
    "\n",
    "fiber_cust = train[train.internet_service_type_id_orig == 2]\n",
    "fiber_cust.shape"
   ]
  },
  {
   "cell_type": "code",
   "execution_count": 113,
   "metadata": {},
   "outputs": [],
   "source": [
    "alpha = .05"
   ]
  },
  {
   "cell_type": "code",
   "execution_count": 114,
   "metadata": {},
   "outputs": [],
   "source": [
    "fiber_churn = fiber_cust[fiber_cust.churn == 1]"
   ]
  },
  {
   "cell_type": "code",
   "execution_count": 115,
   "metadata": {},
   "outputs": [
    {
     "data": {
      "text/plain": [
       "count    724.000000\n",
       "mean      88.029696\n",
       "std       12.067795\n",
       "min       68.250000\n",
       "25%       78.287500\n",
       "50%       86.975000\n",
       "75%       98.625000\n",
       "max      118.350000\n",
       "Name: monthly_charges, dtype: float64"
      ]
     },
     "execution_count": 115,
     "metadata": {},
     "output_type": "execute_result"
    }
   ],
   "source": [
    "fiber_churn.monthly_charges.describe()"
   ]
  },
  {
   "cell_type": "code",
   "execution_count": 116,
   "metadata": {},
   "outputs": [],
   "source": [
    "fiber_no_churn = fiber_cust[fiber_cust.churn == 0]"
   ]
  },
  {
   "cell_type": "code",
   "execution_count": 117,
   "metadata": {},
   "outputs": [
    {
     "data": {
      "text/plain": [
       "count    1016.000000\n",
       "mean       93.697195\n",
       "std        12.650196\n",
       "min        68.600000\n",
       "25%        84.400000\n",
       "50%        94.700000\n",
       "75%       104.100000\n",
       "max       118.600000\n",
       "Name: monthly_charges, dtype: float64"
      ]
     },
     "execution_count": 117,
     "metadata": {},
     "output_type": "execute_result"
    }
   ],
   "source": [
    "fiber_no_churn.monthly_charges.describe()"
   ]
  },
  {
   "cell_type": "code",
   "execution_count": 118,
   "metadata": {},
   "outputs": [
    {
     "name": "stdout",
     "output_type": "stream",
     "text": [
      "t = -9.38896585255263, p = 1.8312165792440667e-20\n",
      "The p-value is less than the alpha: True\n"
     ]
    }
   ],
   "source": [
    "t, p = stats.ttest_ind(fiber_churn.monthly_charges, fiber_no_churn.monthly_charges)\n",
    "print(f't = {t}, p = {p}')\n",
    "print(f'The p-value is less than the alpha: {p < alpha}')"
   ]
  },
  {
   "cell_type": "code",
   "execution_count": 121,
   "metadata": {},
   "outputs": [
    {
     "data": {
      "image/png": "[encoded data removed]",
      "text/plain": [
       "<Figure size 432x288 with 1 Axes>"
      ]
     },
     "metadata": {
      "needs_background": "light"
     },
     "output_type": "display_data"
    }
   ],
   "source": [
    "groups = ['Fiber Customers Who Churn', 'Fiber Customers Who Don\\'t Churn']\n",
    "averages = [88, 94]\n",
    "\n",
    "df = pd.DataFrame({'group' : groups,'average_monthly_charge' : averages})\n",
    "df.plot.bar(title='Customers Who Pay, Stay')\n",
    "locs, labels = plt.xticks()\n",
    "plt.xticks(locs, groups)\n",
    "plt.xticks(rotation=0)\n",
    "plt.show()"
   ]
  },
  {
   "cell_type": "markdown",
   "metadata": {},
   "source": [
    "___"
   ]
  },
  {
   "cell_type": "markdown",
   "metadata": {},
   "source": [
    "#### Tech Support"
   ]
  },
  {
   "cell_type": "code",
   "execution_count": 36,
   "metadata": {},
   "outputs": [
    {
     "data": {
      "text/plain": [
       "0.14742451154529307"
      ]
     },
     "execution_count": 36,
     "metadata": {},
     "output_type": "execute_result"
    }
   ],
   "source": [
    "# Only 15% of customers who have tech support churn.\n",
    "\n",
    "(train[train.tech_support_orig == 1].churn == 1).mean()"
   ]
  },
  {
   "cell_type": "code",
   "execution_count": 37,
   "metadata": {},
   "outputs": [
    {
     "data": {
      "text/plain": [
       "0.3123890663826766"
      ]
     },
     "execution_count": 37,
     "metadata": {},
     "output_type": "execute_result"
    }
   ],
   "source": [
    "# as opposed to 31% of customers who don't have tech_support churn.\n",
    "\n",
    "(train[train.tech_support_orig == 0].churn == 1).mean()"
   ]
  },
  {
   "cell_type": "code",
   "execution_count": 38,
   "metadata": {},
   "outputs": [
    {
     "data": {
      "text/plain": [
       "(476, 26)"
      ]
     },
     "execution_count": 38,
     "metadata": {},
     "output_type": "execute_result"
    }
   ],
   "source": [
    "# t-test: Is there a difference between the means of monthly_charges for fiber customers who have tech support and those who don't? \n",
    "\n",
    "fiber_ts_cust = train[(train.internet_service_type_id_orig == 2) & (train.tech_support_orig == 1)]\n",
    "fiber_ts_cust.shape"
   ]
  },
  {
   "cell_type": "code",
   "execution_count": 39,
   "metadata": {},
   "outputs": [
    {
     "data": {
      "text/plain": [
       "(1264, 26)"
      ]
     },
     "execution_count": 39,
     "metadata": {},
     "output_type": "execute_result"
    }
   ],
   "source": [
    "fiber_nts_cust = train[(train.internet_service_type_id_orig == 2) & (train.tech_support_orig == 0)]\n",
    "fiber_nts_cust.shape"
   ]
  },
  {
   "cell_type": "code",
   "execution_count": 40,
   "metadata": {},
   "outputs": [
    {
     "data": {
      "text/plain": [
       "count    476.000000\n",
       "mean     101.032773\n",
       "std       10.622145\n",
       "min       73.850000\n",
       "25%       93.975000\n",
       "50%      103.850000\n",
       "75%      109.612500\n",
       "max      118.600000\n",
       "Name: monthly_charges, dtype: float64"
      ]
     },
     "execution_count": 40,
     "metadata": {},
     "output_type": "execute_result"
    }
   ],
   "source": [
    "# Fiber customers with tech support pay significantly more than those without, but still have a much lower churn rate.\n",
    "\n",
    "fiber_ts_cust.monthly_charges.describe()"
   ]
  },
  {
   "cell_type": "code",
   "execution_count": 41,
   "metadata": {},
   "outputs": [
    {
     "data": {
      "text/plain": [
       "count    1264.000000\n",
       "mean       87.688489\n",
       "std        11.468936\n",
       "min        68.250000\n",
       "25%        78.450000\n",
       "50%        88.100000\n",
       "75%        97.012500\n",
       "max       113.200000\n",
       "Name: monthly_charges, dtype: float64"
      ]
     },
     "execution_count": 41,
     "metadata": {},
     "output_type": "execute_result"
    }
   ],
   "source": [
    "fiber_nts_cust.monthly_charges.describe()"
   ]
  },
  {
   "cell_type": "code",
   "execution_count": 42,
   "metadata": {},
   "outputs": [
    {
     "name": "stdout",
     "output_type": "stream",
     "text": [
      "t = 22.069017804271706, p = 2.3838240499682178e-95\n",
      "The p-value is less than the alpha: True\n"
     ]
    }
   ],
   "source": [
    "t, p = stats.ttest_ind(fiber_ts_cust.monthly_charges, fiber_nts_cust.monthly_charges)\n",
    "print(f't = {t}, p = {p}')\n",
    "print(f'The p-value is less than the alpha: {p < alpha}')"
   ]
  },
  {
   "cell_type": "code",
   "execution_count": 43,
   "metadata": {},
   "outputs": [
    {
     "data": {
      "text/html": [
       "<div>\n",
       "<style scoped>\n",
       "    .dataframe tbody tr th:only-of-type {\n",
       "        vertical-align: middle;\n",
       "    }\n",
       "\n",
       "    .dataframe tbody tr th {\n",
       "        vertical-align: top;\n",
       "    }\n",
       "\n",
       "    .dataframe thead th {\n",
       "        text-align: right;\n",
       "    }\n",
       "</style>\n",
       "<table border=\"1\" class=\"dataframe\">\n",
       "  <thead>\n",
       "    <tr style=\"text-align: right;\">\n",
       "      <th>internet_service_type</th>\n",
       "      <th>DSL</th>\n",
       "      <th>Fiber optic</th>\n",
       "      <th>None</th>\n",
       "    </tr>\n",
       "    <tr>\n",
       "      <th>tech_support_orig</th>\n",
       "      <th></th>\n",
       "      <th></th>\n",
       "      <th></th>\n",
       "    </tr>\n",
       "  </thead>\n",
       "  <tbody>\n",
       "    <tr>\n",
       "      <td>0</td>\n",
       "      <td>0.275524</td>\n",
       "      <td>0.490506</td>\n",
       "      <td>0.075179</td>\n",
       "    </tr>\n",
       "    <tr>\n",
       "      <td>1</td>\n",
       "      <td>0.095385</td>\n",
       "      <td>0.218487</td>\n",
       "      <td>NaN</td>\n",
       "    </tr>\n",
       "  </tbody>\n",
       "</table>\n",
       "</div>"
      ],
      "text/plain": [
       "internet_service_type       DSL  Fiber optic      None\n",
       "tech_support_orig                                     \n",
       "0                      0.275524     0.490506  0.075179\n",
       "1                      0.095385     0.218487       NaN"
      ]
     },
     "execution_count": 43,
     "metadata": {},
     "output_type": "execute_result"
    }
   ],
   "source": [
    "pd.crosstab(train['tech_support_orig'], train.internet_service_type, values=train.churn, aggfunc='mean')"
   ]
  },
  {
   "cell_type": "markdown",
   "metadata": {},
   "source": [
    "___"
   ]
  },
  {
   "cell_type": "markdown",
   "metadata": {},
   "source": [
    "#### Online Security"
   ]
  },
  {
   "cell_type": "code",
   "execution_count": 44,
   "metadata": {},
   "outputs": [
    {
     "data": {
      "text/plain": [
       "0.1466198419666374"
      ]
     },
     "execution_count": 44,
     "metadata": {},
     "output_type": "execute_result"
    }
   ],
   "source": [
    "# Only 15 % of customers who have online_security churn.\n",
    "\n",
    "(train[train.online_security_orig == 1].churn == 1).mean()"
   ]
  },
  {
   "cell_type": "code",
   "execution_count": 45,
   "metadata": {},
   "outputs": [
    {
     "data": {
      "text/plain": [
       "0.31348074179743224"
      ]
     },
     "execution_count": 45,
     "metadata": {},
     "output_type": "execute_result"
    }
   ],
   "source": [
    "# as opposed to 31% of customers who don't have online_security churn.\n",
    "\n",
    "(train[train.online_security_orig == 0].churn == 1).mean()"
   ]
  },
  {
   "cell_type": "code",
   "execution_count": 46,
   "metadata": {},
   "outputs": [],
   "source": [
    "fiber_is_cust = train[(train.internet_service_type_id_orig == 2) & (train.online_security_orig == 1)]\n",
    "fiber_nis_cust = train[(train.internet_service_type_id_orig == 2) & (train.online_security_orig == 0)]"
   ]
  },
  {
   "cell_type": "code",
   "execution_count": 47,
   "metadata": {},
   "outputs": [
    {
     "data": {
      "text/plain": [
       "count    474.000000\n",
       "mean      99.167405\n",
       "std       11.582250\n",
       "min       73.600000\n",
       "25%       90.650000\n",
       "50%      100.475000\n",
       "75%      108.987500\n",
       "max      118.600000\n",
       "Name: monthly_charges, dtype: float64"
      ]
     },
     "execution_count": 47,
     "metadata": {},
     "output_type": "execute_result"
    }
   ],
   "source": [
    "fiber_is_cust.monthly_charges.describe()"
   ]
  },
  {
   "cell_type": "code",
   "execution_count": 48,
   "metadata": {},
   "outputs": [
    {
     "data": {
      "text/plain": [
       "count    1266.000000\n",
       "mean       88.407978\n",
       "std        11.859575\n",
       "min        68.250000\n",
       "25%        79.162500\n",
       "50%        89.100000\n",
       "75%        98.837500\n",
       "max       113.150000\n",
       "Name: monthly_charges, dtype: float64"
      ]
     },
     "execution_count": 48,
     "metadata": {},
     "output_type": "execute_result"
    }
   ],
   "source": [
    "fiber_nis_cust.monthly_charges.describe()"
   ]
  },
  {
   "cell_type": "code",
   "execution_count": 49,
   "metadata": {},
   "outputs": [
    {
     "name": "stdout",
     "output_type": "stream",
     "text": [
      "t = 16.955097904267998, p = 8.622685229002446e-60\n",
      "The p-value is less than the alpha: True\n"
     ]
    }
   ],
   "source": [
    "t, p = stats.ttest_ind(fiber_is_cust.monthly_charges, fiber_nis_cust.monthly_charges)\n",
    "print(f't = {t}, p = {p}')\n",
    "print(f'The p-value is less than the alpha: {p < alpha}')"
   ]
  },
  {
   "cell_type": "code",
   "execution_count": 50,
   "metadata": {},
   "outputs": [
    {
     "data": {
      "text/html": [
       "<div>\n",
       "<style scoped>\n",
       "    .dataframe tbody tr th:only-of-type {\n",
       "        vertical-align: middle;\n",
       "    }\n",
       "\n",
       "    .dataframe tbody tr th {\n",
       "        vertical-align: top;\n",
       "    }\n",
       "\n",
       "    .dataframe thead th {\n",
       "        text-align: right;\n",
       "    }\n",
       "</style>\n",
       "<table border=\"1\" class=\"dataframe\">\n",
       "  <thead>\n",
       "    <tr style=\"text-align: right;\">\n",
       "      <th>internet_service_type</th>\n",
       "      <th>DSL</th>\n",
       "      <th>Fiber optic</th>\n",
       "      <th>None</th>\n",
       "    </tr>\n",
       "    <tr>\n",
       "      <th>online_security_orig</th>\n",
       "      <th></th>\n",
       "      <th></th>\n",
       "      <th></th>\n",
       "    </tr>\n",
       "  </thead>\n",
       "  <tbody>\n",
       "    <tr>\n",
       "      <td>0</td>\n",
       "      <td>0.274286</td>\n",
       "      <td>0.492891</td>\n",
       "      <td>0.075179</td>\n",
       "    </tr>\n",
       "    <tr>\n",
       "      <td>1</td>\n",
       "      <td>0.100752</td>\n",
       "      <td>0.210970</td>\n",
       "      <td>NaN</td>\n",
       "    </tr>\n",
       "  </tbody>\n",
       "</table>\n",
       "</div>"
      ],
      "text/plain": [
       "internet_service_type       DSL  Fiber optic      None\n",
       "online_security_orig                                  \n",
       "0                      0.274286     0.492891  0.075179\n",
       "1                      0.100752     0.210970       NaN"
      ]
     },
     "execution_count": 50,
     "metadata": {},
     "output_type": "execute_result"
    }
   ],
   "source": [
    "pd.crosstab(train['online_security_orig'], train.internet_service_type, values=train.churn, aggfunc='mean')"
   ]
  },
  {
   "cell_type": "markdown",
   "metadata": {},
   "source": [
    "# Modeling & Evaluating\n",
    "\n",
    "- By predicting that no customers will churn, I am accurate 73% of the time. This is the baseline metric that I need to beat for a model to hold any value."
   ]
  },
  {
   "cell_type": "code",
   "execution_count": 51,
   "metadata": {},
   "outputs": [
    {
     "data": {
      "text/plain": [
       "0    0.73472\n",
       "1    0.26528\n",
       "Name: churn, dtype: float64"
      ]
     },
     "execution_count": 51,
     "metadata": {},
     "output_type": "execute_result"
    }
   ],
   "source": [
    "# Set my baseline accuracy.\n",
    "\n",
    "train.churn.value_counts(normalize=True)"
   ]
  },
  {
   "cell_type": "code",
   "execution_count": 52,
   "metadata": {},
   "outputs": [
    {
     "data": {
      "text/html": [
       "<div>\n",
       "<style scoped>\n",
       "    .dataframe tbody tr th:only-of-type {\n",
       "        vertical-align: middle;\n",
       "    }\n",
       "\n",
       "    .dataframe tbody tr th {\n",
       "        vertical-align: top;\n",
       "    }\n",
       "\n",
       "    .dataframe thead th {\n",
       "        text-align: right;\n",
       "    }\n",
       "</style>\n",
       "<table border=\"1\" class=\"dataframe\">\n",
       "  <thead>\n",
       "    <tr style=\"text-align: right;\">\n",
       "      <th></th>\n",
       "      <th>contract_type_id</th>\n",
       "      <th>payment_type_id</th>\n",
       "      <th>customer_id</th>\n",
       "      <th>partner</th>\n",
       "      <th>dependents</th>\n",
       "      <th>tenure_months</th>\n",
       "      <th>phone_service</th>\n",
       "      <th>multiple_lines</th>\n",
       "      <th>online_backup</th>\n",
       "      <th>device_protection</th>\n",
       "      <th>...</th>\n",
       "      <th>contract_type</th>\n",
       "      <th>internet_service_type</th>\n",
       "      <th>internet_service_type_id_orig</th>\n",
       "      <th>online_security_orig</th>\n",
       "      <th>tech_support_orig</th>\n",
       "      <th>internet_service_type_id_2</th>\n",
       "      <th>internet_service_type_id_3</th>\n",
       "      <th>online_security_1</th>\n",
       "      <th>tech_support_1</th>\n",
       "      <th>tenure_years</th>\n",
       "    </tr>\n",
       "  </thead>\n",
       "  <tbody>\n",
       "    <tr>\n",
       "      <td>5670</td>\n",
       "      <td>1</td>\n",
       "      <td>4</td>\n",
       "      <td>2739-CCZMB</td>\n",
       "      <td>0</td>\n",
       "      <td>1</td>\n",
       "      <td>5</td>\n",
       "      <td>1</td>\n",
       "      <td>No</td>\n",
       "      <td>0</td>\n",
       "      <td>0</td>\n",
       "      <td>...</td>\n",
       "      <td>Month-to-month</td>\n",
       "      <td>None</td>\n",
       "      <td>3</td>\n",
       "      <td>0</td>\n",
       "      <td>0</td>\n",
       "      <td>0</td>\n",
       "      <td>1</td>\n",
       "      <td>0</td>\n",
       "      <td>0</td>\n",
       "      <td>0.42</td>\n",
       "    </tr>\n",
       "  </tbody>\n",
       "</table>\n",
       "<p>1 rows × 26 columns</p>\n",
       "</div>"
      ],
      "text/plain": [
       "      contract_type_id  payment_type_id customer_id  partner  dependents  \\\n",
       "5670                 1                4  2739-CCZMB        0           1   \n",
       "\n",
       "      tenure_months  phone_service multiple_lines  online_backup  \\\n",
       "5670              5              1             No              0   \n",
       "\n",
       "      device_protection  ...   contract_type  internet_service_type  \\\n",
       "5670                  0  ...  Month-to-month                   None   \n",
       "\n",
       "      internet_service_type_id_orig  online_security_orig  tech_support_orig  \\\n",
       "5670                              3                     0                  0   \n",
       "\n",
       "     internet_service_type_id_2 internet_service_type_id_3 online_security_1  \\\n",
       "5670                          0                          1                 0   \n",
       "\n",
       "      tech_support_1  tenure_years  \n",
       "5670               0          0.42  \n",
       "\n",
       "[1 rows x 26 columns]"
      ]
     },
     "execution_count": 52,
     "metadata": {},
     "output_type": "execute_result"
    }
   ],
   "source": [
    "train.head(1)"
   ]
  },
  {
   "cell_type": "markdown",
   "metadata": {},
   "source": [
    "## Define X and y \n",
    "\n"
   ]
  },
  {
   "cell_type": "markdown",
   "metadata": {},
   "source": [
    "___"
   ]
  },
  {
   "cell_type": "code",
   "execution_count": 53,
   "metadata": {},
   "outputs": [],
   "source": [
    "features = ['internet_service_type_id_orig', 'tenure_months', 'streaming_tv','streaming_movies', 'monthly_charges', 'online_security_orig', 'online_backup', 'device_protection', 'tech_support_orig']"
   ]
  },
  {
   "cell_type": "code",
   "execution_count": 54,
   "metadata": {},
   "outputs": [],
   "source": [
    "X_train = train[features]\n",
    "y_train = train[['churn']]\n",
    "\n",
    "X_validate = validate[features]\n",
    "y_validate = validate[['churn']]\n",
    "\n",
    "X_test = test[features]\n",
    "y_test = test[['churn']]"
   ]
  },
  {
   "cell_type": "markdown",
   "metadata": {},
   "source": [
    "### Logistic Regression with Numeric Features - Model 1"
   ]
  },
  {
   "cell_type": "code",
   "execution_count": 55,
   "metadata": {},
   "outputs": [],
   "source": [
    "# Create a Logistic Regression model.\n",
    "\n",
    "logit1 = LogisticRegression(random_state=123)"
   ]
  },
  {
   "cell_type": "code",
   "execution_count": 56,
   "metadata": {},
   "outputs": [
    {
     "data": {
      "text/plain": [
       "LogisticRegression(C=1.0, class_weight=None, dual=False, fit_intercept=True,\n",
       "                   intercept_scaling=1, l1_ratio=None, max_iter=100,\n",
       "                   multi_class='warn', n_jobs=None, penalty='l2',\n",
       "                   random_state=123, solver='warn', tol=0.0001, verbose=0,\n",
       "                   warm_start=False)"
      ]
     },
     "execution_count": 56,
     "metadata": {},
     "output_type": "execute_result"
    }
   ],
   "source": [
    "# Fit the model\n",
    "\n",
    "logit1.fit(X_train, y_train)"
   ]
  },
  {
   "cell_type": "code",
   "execution_count": 57,
   "metadata": {},
   "outputs": [
    {
     "name": "stdout",
     "output_type": "stream",
     "text": [
      "              precision    recall  f1-score   support\n",
      "\n",
      "           0       0.83      0.90      0.86      2897\n",
      "           1       0.63      0.48      0.55      1046\n",
      "\n",
      "    accuracy                           0.79      3943\n",
      "   macro avg       0.73      0.69      0.71      3943\n",
      "weighted avg       0.78      0.79      0.78      3943\n",
      "\n"
     ]
    }
   ],
   "source": [
    "# Print classification report for Logit1 train.\n",
    "\n",
    "print(classification_report(y_true=train.churn, y_pred=logit1.predict(X_train)))"
   ]
  },
  {
   "cell_type": "code",
   "execution_count": 58,
   "metadata": {},
   "outputs": [
    {
     "name": "stdout",
     "output_type": "stream",
     "text": [
      "              precision    recall  f1-score   support\n",
      "\n",
      "           0       0.83      0.91      0.87      1242\n",
      "           1       0.66      0.49      0.56       449\n",
      "\n",
      "    accuracy                           0.80      1691\n",
      "   macro avg       0.75      0.70      0.72      1691\n",
      "weighted avg       0.79      0.80      0.79      1691\n",
      "\n"
     ]
    }
   ],
   "source": [
    "# Print classification report for Logit1 validate.\n",
    "\n",
    "print(classification_report(y_true=validate.churn, y_pred=logit1.predict(X_validate)))"
   ]
  },
  {
   "cell_type": "markdown",
   "metadata": {},
   "source": [
    "### Takeaways \n",
    "\n",
    "Feature Importance - Looking at this quick and dirty feature list and model weights from my first LR model, I have learned the following things:\n",
    "\n",
    "\n",
    "- By just feeding in the numeric features from my dataframe, this first LR model is already beating my baseline accuracy of 73%.\n",
    "    \n",
    "    \n",
    "- The model is not overfit because validate is actually performing just slightly better in my model.\n",
    "    \n",
    "    \n",
    "- I will go back to do some exploration and possibly create dummy variables for some of my more important binary features like `online_security` and `tech_support`. Then I will run one more LR to see if I can beat this model."
   ]
  },
  {
   "cell_type": "markdown",
   "metadata": {},
   "source": [
    "## Logistic Regression with Encoded Binary Features - Model 2\n",
    "\n",
    "- After more exploration and testing of some of the features that my first LR model weighted more heavily, I'm going to try a LR again.\n",
    "\n",
    "\n",
    "- This time, I have created dummy variables from my binary features to see if it improves my LR model."
   ]
  },
  {
   "cell_type": "code",
   "execution_count": 59,
   "metadata": {},
   "outputs": [],
   "source": [
    "features2 = ['tenure_months', 'monthly_charges', 'internet_service_type_id_2','internet_service_type_id_3', 'online_security_1', 'tech_support_1']"
   ]
  },
  {
   "cell_type": "code",
   "execution_count": 60,
   "metadata": {},
   "outputs": [],
   "source": [
    "X_train = train[features2]\n",
    "y_train = train[['churn']]\n",
    "\n",
    "X_validate = validate[features2]\n",
    "y_validate = validate[['churn']]\n",
    "\n",
    "X_test = test[features2]\n",
    "y_test = test[['churn']]"
   ]
  },
  {
   "cell_type": "code",
   "execution_count": 61,
   "metadata": {},
   "outputs": [
    {
     "data": {
      "text/plain": [
       "(3943, 6)"
      ]
     },
     "execution_count": 61,
     "metadata": {},
     "output_type": "execute_result"
    }
   ],
   "source": [
    "X_train.shape"
   ]
  },
  {
   "cell_type": "code",
   "execution_count": 62,
   "metadata": {},
   "outputs": [
    {
     "data": {
      "text/plain": [
       "LogisticRegression(C=1.0, class_weight=None, dual=False, fit_intercept=True,\n",
       "                   intercept_scaling=1, l1_ratio=None, max_iter=100,\n",
       "                   multi_class='warn', n_jobs=None, penalty='l2',\n",
       "                   random_state=123, solver='warn', tol=0.0001, verbose=0,\n",
       "                   warm_start=False)"
      ]
     },
     "execution_count": 62,
     "metadata": {},
     "output_type": "execute_result"
    }
   ],
   "source": [
    "logit2 = LogisticRegression(random_state=123)\n",
    "logit2.fit(X_train, y_train)"
   ]
  },
  {
   "cell_type": "code",
   "execution_count": 63,
   "metadata": {},
   "outputs": [],
   "source": [
    "weights = logit2.coef_.flatten()"
   ]
  },
  {
   "cell_type": "code",
   "execution_count": 64,
   "metadata": {},
   "outputs": [
    {
     "data": {
      "text/html": [
       "<div>\n",
       "<style scoped>\n",
       "    .dataframe tbody tr th:only-of-type {\n",
       "        vertical-align: middle;\n",
       "    }\n",
       "\n",
       "    .dataframe tbody tr th {\n",
       "        vertical-align: top;\n",
       "    }\n",
       "\n",
       "    .dataframe thead th {\n",
       "        text-align: right;\n",
       "    }\n",
       "</style>\n",
       "<table border=\"1\" class=\"dataframe\">\n",
       "  <thead>\n",
       "    <tr style=\"text-align: right;\">\n",
       "      <th></th>\n",
       "      <th>feature</th>\n",
       "      <th>weight</th>\n",
       "    </tr>\n",
       "  </thead>\n",
       "  <tbody>\n",
       "    <tr>\n",
       "      <td>0</td>\n",
       "      <td>tenure_months</td>\n",
       "      <td>-0.040815</td>\n",
       "    </tr>\n",
       "    <tr>\n",
       "      <td>1</td>\n",
       "      <td>monthly_charges</td>\n",
       "      <td>0.009892</td>\n",
       "    </tr>\n",
       "    <tr>\n",
       "      <td>2</td>\n",
       "      <td>internet_service_type_id_2</td>\n",
       "      <td>0.818076</td>\n",
       "    </tr>\n",
       "    <tr>\n",
       "      <td>3</td>\n",
       "      <td>internet_service_type_id_3</td>\n",
       "      <td>-1.292532</td>\n",
       "    </tr>\n",
       "    <tr>\n",
       "      <td>4</td>\n",
       "      <td>online_security_1</td>\n",
       "      <td>-0.613153</td>\n",
       "    </tr>\n",
       "    <tr>\n",
       "      <td>5</td>\n",
       "      <td>tech_support_1</td>\n",
       "      <td>-0.633782</td>\n",
       "    </tr>\n",
       "  </tbody>\n",
       "</table>\n",
       "</div>"
      ],
      "text/plain": [
       "                      feature    weight\n",
       "0               tenure_months -0.040815\n",
       "1             monthly_charges  0.009892\n",
       "2  internet_service_type_id_2  0.818076\n",
       "3  internet_service_type_id_3 -1.292532\n",
       "4           online_security_1 -0.613153\n",
       "5              tech_support_1 -0.633782"
      ]
     },
     "execution_count": 64,
     "metadata": {},
     "output_type": "execute_result"
    }
   ],
   "source": [
    "pd.DataFrame(weights, features2).reset_index().rename(columns={'index': 'feature', 0: 'weight'})"
   ]
  },
  {
   "cell_type": "code",
   "execution_count": 65,
   "metadata": {},
   "outputs": [
    {
     "name": "stdout",
     "output_type": "stream",
     "text": [
      "              precision    recall  f1-score   support\n",
      "\n",
      "           0       0.82      0.91      0.86      2897\n",
      "           1       0.65      0.46      0.54      1046\n",
      "\n",
      "    accuracy                           0.79      3943\n",
      "   macro avg       0.74      0.68      0.70      3943\n",
      "weighted avg       0.78      0.79      0.78      3943\n",
      "\n"
     ]
    }
   ],
   "source": [
    "# Print classification report for Logit2 train.\n",
    "\n",
    "print(classification_report(y_true=train.churn, y_pred=logit2.predict(X_train)))"
   ]
  },
  {
   "cell_type": "code",
   "execution_count": 66,
   "metadata": {},
   "outputs": [
    {
     "name": "stdout",
     "output_type": "stream",
     "text": [
      "              precision    recall  f1-score   support\n",
      "\n",
      "           0       0.82      0.92      0.87      1242\n",
      "           1       0.66      0.44      0.53       449\n",
      "\n",
      "    accuracy                           0.79      1691\n",
      "   macro avg       0.74      0.68      0.70      1691\n",
      "weighted avg       0.78      0.79      0.78      1691\n",
      "\n"
     ]
    }
   ],
   "source": [
    "# Print classification report for Logit2 validate.\n",
    "\n",
    "print(classification_report(y_true=validate.churn, y_pred=logit2.predict(X_validate)))"
   ]
  },
  {
   "cell_type": "markdown",
   "metadata": {},
   "source": [
    "### Takeaways:\n",
    "\n",
    "- The second LR model which used the dummy variables for `internet_service_type`,  `online_security`,and `tech_support` improved by less than one accuracy point, however at 79% accuracy, both LR models are beating my baseline prediction for churn.\n",
    "\n",
    "\n",
    "- Both LR models are also not overfit shown by their performance on the validate dataset.\n",
    "\n",
    "\n",
    "- However, the recall score for both models is very low, with the first LR model coming in at 48% and the second, with dummy vars, coming in at 46% for the positive class."
   ]
  },
  {
   "cell_type": "markdown",
   "metadata": {},
   "source": [
    "## Decision Tree - Model 3"
   ]
  },
  {
   "cell_type": "code",
   "execution_count": 67,
   "metadata": {},
   "outputs": [],
   "source": [
    "# Generate a Decision Tree model with the max_depth argument is set to 5\n",
    "\n",
    "clf = DecisionTreeClassifier(max_depth=5, random_state=123)"
   ]
  },
  {
   "cell_type": "code",
   "execution_count": 68,
   "metadata": {},
   "outputs": [],
   "source": [
    "# Slightly tweaked my features, adding `contract_type_id`\n",
    "\n",
    "features1 = ['tenure_months', 'monthly_charges', 'internet_service_type_id_2','internet_service_type_id_3', 'contract_type_id', 'tech_support_1']"
   ]
  },
  {
   "cell_type": "code",
   "execution_count": 69,
   "metadata": {},
   "outputs": [],
   "source": [
    "# Adjusted the train, validate, and test to the tweaked features\n",
    "\n",
    "X_train = train[features1]\n",
    "y_train = train[['churn']]\n",
    "\n",
    "X_validate = validate[features1]\n",
    "y_validate = validate[['churn']]\n",
    "\n",
    "X_test = test[features1]\n",
    "y_test = test[['churn']]"
   ]
  },
  {
   "cell_type": "code",
   "execution_count": 70,
   "metadata": {},
   "outputs": [],
   "source": [
    "# Fit the model on the training data\n",
    "\n",
    "clf = clf.fit(X_train, y_train)"
   ]
  },
  {
   "cell_type": "code",
   "execution_count": 71,
   "metadata": {},
   "outputs": [
    {
     "data": {
      "text/plain": [
       "array([0, 1, 0, 0, 0])"
      ]
     },
     "execution_count": 71,
     "metadata": {},
     "output_type": "execute_result"
    }
   ],
   "source": [
    "# Generate a set of predictions using this trained model\n",
    "\n",
    "y_pred = clf.predict(X_train)\n",
    "y_pred[0:5]"
   ]
  },
  {
   "cell_type": "code",
   "execution_count": 72,
   "metadata": {},
   "outputs": [
    {
     "data": {
      "text/plain": [
       "array([[0.89880952, 0.10119048],\n",
       "       [0.31      , 0.69      ],\n",
       "       [0.86614173, 0.13385827],\n",
       "       [1.        , 0.        ],\n",
       "       [0.60932945, 0.39067055]])"
      ]
     },
     "execution_count": 72,
     "metadata": {},
     "output_type": "execute_result"
    }
   ],
   "source": [
    "# Estimate the probabilities for each class\n",
    "\n",
    "y_pred_proba = clf.predict_proba(X_train)\n",
    "y_pred_proba[0:5]"
   ]
  },
  {
   "cell_type": "code",
   "execution_count": 73,
   "metadata": {},
   "outputs": [
    {
     "name": "stdout",
     "output_type": "stream",
     "text": [
      "Accuracy of Decision Tree classifier on training set: 0.802\n"
     ]
    }
   ],
   "source": [
    "# Evaluate the model \n",
    "\n",
    "print('Accuracy of Decision Tree classifier on training set: {:.3f}'\n",
    "      .format(clf.score(X_train, y_train)))"
   ]
  },
  {
   "cell_type": "code",
   "execution_count": 74,
   "metadata": {},
   "outputs": [
    {
     "name": "stdout",
     "output_type": "stream",
     "text": [
      "              precision    recall  f1-score   support\n",
      "\n",
      "           0       0.84      0.91      0.87      2897\n",
      "           1       0.67      0.51      0.58      1046\n",
      "\n",
      "    accuracy                           0.80      3943\n",
      "   macro avg       0.75      0.71      0.72      3943\n",
      "weighted avg       0.79      0.80      0.79      3943\n",
      "\n"
     ]
    }
   ],
   "source": [
    "# Print a classification report\n",
    "\n",
    "print(classification_report(y_train, y_pred))"
   ]
  },
  {
   "cell_type": "code",
   "execution_count": 75,
   "metadata": {},
   "outputs": [
    {
     "name": "stdout",
     "output_type": "stream",
     "text": [
      "Accuracy of Decision Tree classifier on validate set: 0.788\n"
     ]
    }
   ],
   "source": [
    "# Evaluate this model on out-of-sample data\n",
    "\n",
    "print('Accuracy of Decision Tree classifier on validate set: {:.3f}'\n",
    "     .format(clf.score(X_validate, y_validate)))"
   ]
  },
  {
   "cell_type": "code",
   "execution_count": 76,
   "metadata": {},
   "outputs": [],
   "source": [
    "# Use the classification model trained on train data to make predictions on validate data\n",
    "\n",
    "y_pred_val = clf.predict(X_validate)"
   ]
  },
  {
   "cell_type": "code",
   "execution_count": 77,
   "metadata": {},
   "outputs": [
    {
     "name": "stdout",
     "output_type": "stream",
     "text": [
      "              precision    recall  f1-score   support\n",
      "\n",
      "           0       0.82      0.91      0.86      1242\n",
      "           1       0.64      0.45      0.53       449\n",
      "\n",
      "    accuracy                           0.79      1691\n",
      "   macro avg       0.73      0.68      0.70      1691\n",
      "weighted avg       0.77      0.79      0.77      1691\n",
      "\n"
     ]
    }
   ],
   "source": [
    "# Compare actual y values from validate to predictions based on X_validate\n",
    "\n",
    "print(classification_report(y_validate, y_pred_val))"
   ]
  },
  {
   "cell_type": "markdown",
   "metadata": {},
   "source": [
    "### Takeaways:\n",
    "\n",
    "- The Decision Tree model performed nearly identically to my LR models with an 80% accuracy on train and a 79% accuracy on validate\n",
    "\n",
    "- The recall on my train was better, at 51%, but dropped off to 45% on my validate"
   ]
  },
  {
   "cell_type": "markdown",
   "metadata": {},
   "source": [
    "---"
   ]
  },
  {
   "cell_type": "markdown",
   "metadata": {},
   "source": [
    "## Random Forest - Model 4"
   ]
  },
  {
   "cell_type": "code",
   "execution_count": 78,
   "metadata": {},
   "outputs": [],
   "source": [
    "# Generate a RAndom Forest model with the max_depth argument is set to 4\n",
    "\n",
    "rf = RandomForestClassifier(bootstrap=True, \n",
    "                            class_weight=None, \n",
    "                            criterion='gini',\n",
    "                            min_samples_leaf=4,\n",
    "                            n_estimators=100,\n",
    "                            max_depth=5, \n",
    "                            random_state=123)"
   ]
  },
  {
   "cell_type": "code",
   "execution_count": 79,
   "metadata": {},
   "outputs": [
    {
     "data": {
      "text/plain": [
       "RandomForestClassifier(bootstrap=True, class_weight=None, criterion='gini',\n",
       "                       max_depth=5, max_features='auto', max_leaf_nodes=None,\n",
       "                       min_impurity_decrease=0.0, min_impurity_split=None,\n",
       "                       min_samples_leaf=4, min_samples_split=2,\n",
       "                       min_weight_fraction_leaf=0.0, n_estimators=100,\n",
       "                       n_jobs=None, oob_score=False, random_state=123,\n",
       "                       verbose=0, warm_start=False)"
      ]
     },
     "execution_count": 79,
     "metadata": {},
     "output_type": "execute_result"
    }
   ],
   "source": [
    "# Fit the model on the training data \n",
    "\n",
    "rf.fit(X_train, y_train)"
   ]
  },
  {
   "cell_type": "code",
   "execution_count": 81,
   "metadata": {},
   "outputs": [
    {
     "name": "stdout",
     "output_type": "stream",
     "text": [
      "[0.31689737 0.13304363 0.16118118 0.05395441 0.29450961 0.0404138 ]\n"
     ]
    }
   ],
   "source": [
    "# Evaluate the weight of each feature.\n",
    "\n",
    "print(rf.feature_importances_)"
   ]
  },
  {
   "cell_type": "code",
   "execution_count": 82,
   "metadata": {},
   "outputs": [],
   "source": [
    "# Make my prediction and estimate probability for Random Forest Train\n",
    "\n",
    "y_pred_rf = rf.predict(X_train)\n",
    "y_pred_proba_rf = rf.predict_proba(X_train)"
   ]
  },
  {
   "cell_type": "code",
   "execution_count": 83,
   "metadata": {},
   "outputs": [
    {
     "name": "stdout",
     "output_type": "stream",
     "text": [
      "              precision    recall  f1-score   support\n",
      "\n",
      "           0       0.82      0.93      0.87      2897\n",
      "           1       0.69      0.45      0.54      1046\n",
      "\n",
      "    accuracy                           0.80      3943\n",
      "   macro avg       0.76      0.69      0.71      3943\n",
      "weighted avg       0.79      0.80      0.78      3943\n",
      "\n"
     ]
    }
   ],
   "source": [
    "# Print classification report\n",
    "\n",
    "print(classification_report(y_train, y_pred_rf))"
   ]
  },
  {
   "cell_type": "code",
   "execution_count": 84,
   "metadata": {},
   "outputs": [],
   "source": [
    "# Make my prediction and estimate probability for Random Forest Validate\n",
    "\n",
    "y_pred_rf_val = rf.predict(X_validate)\n",
    "y_pred_proba_rf_val = rf.predict_proba(X_validate)"
   ]
  },
  {
   "cell_type": "code",
   "execution_count": 85,
   "metadata": {},
   "outputs": [
    {
     "name": "stdout",
     "output_type": "stream",
     "text": [
      "              precision    recall  f1-score   support\n",
      "\n",
      "           0       0.82      0.94      0.87      1242\n",
      "           1       0.71      0.42      0.53       449\n",
      "\n",
      "    accuracy                           0.80      1691\n",
      "   macro avg       0.76      0.68      0.70      1691\n",
      "weighted avg       0.79      0.80      0.78      1691\n",
      "\n"
     ]
    }
   ],
   "source": [
    "# Print my validation classification report\n",
    "\n",
    "print(classification_report(y_validate, y_pred_rf_val))"
   ]
  },
  {
   "cell_type": "markdown",
   "metadata": {},
   "source": [
    "## Takeaways\n",
    "\n",
    "- Accuracy was on par with previous models\n",
    "\n",
    "- As the recall for churn was at 45% for both test and validate, this was my weakest performer"
   ]
  },
  {
   "cell_type": "markdown",
   "metadata": {},
   "source": [
    "## Test\n",
    "\n",
    "- All four of my models performed at roughly 80% accuracy\n",
    "\n",
    "- While my Decision Tree model had a test recall of 51%, it dropped off to 45% on validate, bringing it right in line with my other models\n",
    "\n",
    "- None of my models were wildly overfit, so I chose to test on the best fit, the first LR model"
   ]
  },
  {
   "cell_type": "code",
   "execution_count": 86,
   "metadata": {},
   "outputs": [],
   "source": [
    "features = ['internet_service_type_id_orig', 'tenure_months', 'streaming_tv','streaming_movies', 'monthly_charges', 'online_security_orig', 'online_backup', 'device_protection', 'tech_support_orig']"
   ]
  },
  {
   "cell_type": "code",
   "execution_count": 87,
   "metadata": {},
   "outputs": [],
   "source": [
    "X_train = train[features]\n",
    "y_train = train[['churn']]\n",
    "\n",
    "X_validate = validate[features]\n",
    "y_validate = validate[['churn']]\n",
    "\n",
    "X_test = test[features]\n",
    "y_test = test[['churn']]"
   ]
  },
  {
   "cell_type": "code",
   "execution_count": 88,
   "metadata": {},
   "outputs": [
    {
     "name": "stdout",
     "output_type": "stream",
     "text": [
      "(1409, 9) (1409, 1)\n"
     ]
    }
   ],
   "source": [
    "# Make sure the test data propotions look correct\n",
    "\n",
    "print(X_test.shape, y_test.shape)"
   ]
  },
  {
   "cell_type": "markdown",
   "metadata": {},
   "source": [
    "### Logistic Regression with Numeric Features - Model 1"
   ]
  },
  {
   "cell_type": "code",
   "execution_count": 89,
   "metadata": {},
   "outputs": [
    {
     "name": "stdout",
     "output_type": "stream",
     "text": [
      "              precision    recall  f1-score   support\n",
      "\n",
      "           0       0.82      0.90      0.86      1035\n",
      "           1       0.62      0.47      0.53       374\n",
      "\n",
      "    accuracy                           0.78      1409\n",
      "   macro avg       0.72      0.68      0.70      1409\n",
      "weighted avg       0.77      0.78      0.77      1409\n",
      "\n"
     ]
    }
   ],
   "source": [
    "# The test LR model did as well on accuracy and improved on recall by 5%\n",
    "\n",
    "print(classification_report(y_true=y_test, y_pred=logit1.predict(X_test)))"
   ]
  },
  {
   "cell_type": "markdown",
   "metadata": {},
   "source": [
    "## Create CSV"
   ]
  },
  {
   "cell_type": "code",
   "execution_count": 90,
   "metadata": {},
   "outputs": [
    {
     "data": {
      "text/html": [
       "<div>\n",
       "<style scoped>\n",
       "    .dataframe tbody tr th:only-of-type {\n",
       "        vertical-align: middle;\n",
       "    }\n",
       "\n",
       "    .dataframe tbody tr th {\n",
       "        vertical-align: top;\n",
       "    }\n",
       "\n",
       "    .dataframe thead th {\n",
       "        text-align: right;\n",
       "    }\n",
       "</style>\n",
       "<table border=\"1\" class=\"dataframe\">\n",
       "  <thead>\n",
       "    <tr style=\"text-align: right;\">\n",
       "      <th></th>\n",
       "      <th>internet_service_type_id</th>\n",
       "      <th>contract_type_id</th>\n",
       "      <th>payment_type_id</th>\n",
       "      <th>customer_id</th>\n",
       "      <th>gender</th>\n",
       "      <th>senior_citizen</th>\n",
       "      <th>partner</th>\n",
       "      <th>dependents</th>\n",
       "      <th>tenure</th>\n",
       "      <th>phone_service</th>\n",
       "      <th>...</th>\n",
       "      <th>paperless_billing</th>\n",
       "      <th>monthly_charges</th>\n",
       "      <th>total_charges</th>\n",
       "      <th>churn</th>\n",
       "      <th>payment_type</th>\n",
       "      <th>contract_type</th>\n",
       "      <th>internet_service_type</th>\n",
       "      <th>internet_service_type_id_orig</th>\n",
       "      <th>online_security_orig</th>\n",
       "      <th>tech_support_orig</th>\n",
       "    </tr>\n",
       "  </thead>\n",
       "  <tbody>\n",
       "    <tr>\n",
       "      <td>0</td>\n",
       "      <td>1</td>\n",
       "      <td>1</td>\n",
       "      <td>2</td>\n",
       "      <td>0003-MKNFE</td>\n",
       "      <td>Male</td>\n",
       "      <td>0</td>\n",
       "      <td>0</td>\n",
       "      <td>0</td>\n",
       "      <td>9</td>\n",
       "      <td>1</td>\n",
       "      <td>...</td>\n",
       "      <td>0</td>\n",
       "      <td>59.9</td>\n",
       "      <td>542.4</td>\n",
       "      <td>0</td>\n",
       "      <td>Mailed check</td>\n",
       "      <td>Month-to-month</td>\n",
       "      <td>DSL</td>\n",
       "      <td>1</td>\n",
       "      <td>0</td>\n",
       "      <td>0</td>\n",
       "    </tr>\n",
       "  </tbody>\n",
       "</table>\n",
       "<p>1 rows × 27 columns</p>\n",
       "</div>"
      ],
      "text/plain": [
       "   internet_service_type_id  contract_type_id  payment_type_id customer_id  \\\n",
       "0                         1                 1                2  0003-MKNFE   \n",
       "\n",
       "  gender  senior_citizen  partner  dependents  tenure  phone_service  ...  \\\n",
       "0   Male               0        0           0       9              1  ...   \n",
       "\n",
       "  paperless_billing  monthly_charges  total_charges  churn  payment_type  \\\n",
       "0                 0             59.9          542.4      0  Mailed check   \n",
       "\n",
       "    contract_type  internet_service_type  internet_service_type_id_orig  \\\n",
       "0  Month-to-month                    DSL                              1   \n",
       "\n",
       "   online_security_orig tech_support_orig  \n",
       "0                     0                 0  \n",
       "\n",
       "[1 rows x 27 columns]"
      ]
     },
     "execution_count": 90,
     "metadata": {},
     "output_type": "execute_result"
    }
   ],
   "source": [
    "df.head(1)"
   ]
  },
  {
   "cell_type": "code",
   "execution_count": 92,
   "metadata": {},
   "outputs": [],
   "source": [
    "# Prepare df without splitting\n",
    "df = acquire.get_telco_data()\n",
    "df = prepare.telco_df_prep(df)"
   ]
  },
  {
   "cell_type": "code",
   "execution_count": 93,
   "metadata": {},
   "outputs": [],
   "source": [
    "X = df[['internet_service_type_id_orig', 'tenure_months', 'streaming_tv','streaming_movies', 'monthly_charges', 'online_security_orig', 'online_backup', 'device_protection', 'tech_support_orig']]"
   ]
  },
  {
   "cell_type": "code",
   "execution_count": 94,
   "metadata": {},
   "outputs": [
    {
     "data": {
      "text/html": [
       "<div>\n",
       "<style scoped>\n",
       "    .dataframe tbody tr th:only-of-type {\n",
       "        vertical-align: middle;\n",
       "    }\n",
       "\n",
       "    .dataframe tbody tr th {\n",
       "        vertical-align: top;\n",
       "    }\n",
       "\n",
       "    .dataframe thead th {\n",
       "        text-align: right;\n",
       "    }\n",
       "</style>\n",
       "<table border=\"1\" class=\"dataframe\">\n",
       "  <thead>\n",
       "    <tr style=\"text-align: right;\">\n",
       "      <th></th>\n",
       "      <th>contract_type_id</th>\n",
       "      <th>payment_type_id</th>\n",
       "      <th>customer_id</th>\n",
       "      <th>partner</th>\n",
       "      <th>dependents</th>\n",
       "      <th>tenure_months</th>\n",
       "      <th>phone_service</th>\n",
       "      <th>multiple_lines</th>\n",
       "      <th>online_backup</th>\n",
       "      <th>device_protection</th>\n",
       "      <th>...</th>\n",
       "      <th>internet_service_type</th>\n",
       "      <th>internet_service_type_id_orig</th>\n",
       "      <th>online_security_orig</th>\n",
       "      <th>tech_support_orig</th>\n",
       "      <th>internet_service_type_id_2</th>\n",
       "      <th>internet_service_type_id_3</th>\n",
       "      <th>online_security_1</th>\n",
       "      <th>tech_support_1</th>\n",
       "      <th>tenure_years</th>\n",
       "      <th>prediction</th>\n",
       "    </tr>\n",
       "  </thead>\n",
       "  <tbody>\n",
       "    <tr>\n",
       "      <td>0</td>\n",
       "      <td>1</td>\n",
       "      <td>2</td>\n",
       "      <td>0003-MKNFE</td>\n",
       "      <td>0</td>\n",
       "      <td>0</td>\n",
       "      <td>9</td>\n",
       "      <td>1</td>\n",
       "      <td>Yes</td>\n",
       "      <td>0</td>\n",
       "      <td>0</td>\n",
       "      <td>...</td>\n",
       "      <td>DSL</td>\n",
       "      <td>1</td>\n",
       "      <td>0</td>\n",
       "      <td>0</td>\n",
       "      <td>0</td>\n",
       "      <td>0</td>\n",
       "      <td>0</td>\n",
       "      <td>0</td>\n",
       "      <td>0.75</td>\n",
       "      <td>1</td>\n",
       "    </tr>\n",
       "  </tbody>\n",
       "</table>\n",
       "<p>1 rows × 27 columns</p>\n",
       "</div>"
      ],
      "text/plain": [
       "   contract_type_id  payment_type_id customer_id  partner  dependents  \\\n",
       "0                 1                2  0003-MKNFE        0           0   \n",
       "\n",
       "   tenure_months  phone_service multiple_lines  online_backup  \\\n",
       "0              9              1            Yes              0   \n",
       "\n",
       "   device_protection  ...  internet_service_type  \\\n",
       "0                  0  ...                    DSL   \n",
       "\n",
       "   internet_service_type_id_orig  online_security_orig  tech_support_orig  \\\n",
       "0                              1                     0                  0   \n",
       "\n",
       "   internet_service_type_id_2 internet_service_type_id_3 online_security_1  \\\n",
       "0                           0                          0                 0   \n",
       "\n",
       "  tech_support_1  tenure_years  prediction  \n",
       "0              0          0.75           1  \n",
       "\n",
       "[1 rows x 27 columns]"
      ]
     },
     "execution_count": 94,
     "metadata": {},
     "output_type": "execute_result"
    }
   ],
   "source": [
    "# Add a column for the preditions on the entire, prepped df.\n",
    "\n",
    "df['prediction'] = logit1.predict(X)\n",
    "df.head(1)"
   ]
  },
  {
   "cell_type": "code",
   "execution_count": 100,
   "metadata": {},
   "outputs": [],
   "source": [
    "# Get probability for churn, 1, and concat back onto our df.\n",
    "\n",
    "df_prob = pd.DataFrame(logit1.predict_proba(X))\n",
    "df_prob = df_prob.drop(0,axis=1)\n",
    "df_prob.round(3)\n",
    "df = pd.concat([df,df_prob],axis=1)\n",
    "df = df.rename(columns={1:'proba_of_churn'})"
   ]
  },
  {
   "cell_type": "code",
   "execution_count": 102,
   "metadata": {},
   "outputs": [
    {
     "data": {
      "text/html": [
       "<div>\n",
       "<style scoped>\n",
       "    .dataframe tbody tr th:only-of-type {\n",
       "        vertical-align: middle;\n",
       "    }\n",
       "\n",
       "    .dataframe tbody tr th {\n",
       "        vertical-align: top;\n",
       "    }\n",
       "\n",
       "    .dataframe thead th {\n",
       "        text-align: right;\n",
       "    }\n",
       "</style>\n",
       "<table border=\"1\" class=\"dataframe\">\n",
       "  <thead>\n",
       "    <tr style=\"text-align: right;\">\n",
       "      <th></th>\n",
       "      <th>customer_id</th>\n",
       "      <th>prediction</th>\n",
       "      <th>proba_of_churn</th>\n",
       "    </tr>\n",
       "  </thead>\n",
       "  <tbody>\n",
       "    <tr>\n",
       "      <td>0</td>\n",
       "      <td>0003-MKNFE</td>\n",
       "      <td>1</td>\n",
       "      <td>0.543120</td>\n",
       "    </tr>\n",
       "    <tr>\n",
       "      <td>1</td>\n",
       "      <td>0013-MHZWF</td>\n",
       "      <td>0</td>\n",
       "      <td>0.418019</td>\n",
       "    </tr>\n",
       "    <tr>\n",
       "      <td>2</td>\n",
       "      <td>0015-UOCOJ</td>\n",
       "      <td>0</td>\n",
       "      <td>0.289727</td>\n",
       "    </tr>\n",
       "    <tr>\n",
       "      <td>3</td>\n",
       "      <td>0023-HGHWL</td>\n",
       "      <td>0</td>\n",
       "      <td>0.323224</td>\n",
       "    </tr>\n",
       "    <tr>\n",
       "      <td>4</td>\n",
       "      <td>0032-PGELS</td>\n",
       "      <td>0</td>\n",
       "      <td>0.213505</td>\n",
       "    </tr>\n",
       "  </tbody>\n",
       "</table>\n",
       "</div>"
      ],
      "text/plain": [
       "  customer_id  prediction  proba_of_churn\n",
       "0  0003-MKNFE           1        0.543120\n",
       "1  0013-MHZWF           0        0.418019\n",
       "2  0015-UOCOJ           0        0.289727\n",
       "3  0023-HGHWL           0        0.323224\n",
       "4  0032-PGELS           0        0.213505"
      ]
     },
     "execution_count": 102,
     "metadata": {},
     "output_type": "execute_result"
    }
   ],
   "source": [
    "csv_df = df[['customer_id', 'prediction', 'proba_of_churn']]\n",
    "csv_df.head()"
   ]
  },
  {
   "cell_type": "code",
   "execution_count": 103,
   "metadata": {},
   "outputs": [],
   "source": [
    "# Write df to csv file.\n",
    "\n",
    "#csv_df.to_csv('telco_predictions.csv')"
   ]
  },
  {
   "cell_type": "code",
   "execution_count": null,
   "metadata": {},
   "outputs": [],
   "source": []
  }
 ],
 "metadata": {
  "kernelspec": {
   "display_name": "Python 3",
   "language": "python",
   "name": "python3"
  },
  "language_info": {
   "codemirror_mode": {
    "name": "ipython",
    "version": 3
   },
   "file_extension": ".py",
   "mimetype": "text/x-python",
   "name": "python",
   "nbconvert_exporter": "python",
   "pygments_lexer": "ipython3",
   "version": "3.7.4"
  }
 },
 "nbformat": 4,
 "nbformat_minor": 4
}
