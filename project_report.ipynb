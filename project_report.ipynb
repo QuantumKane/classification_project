{
 "cells": [
  {
   "cell_type": "markdown",
   "metadata": {},
   "source": [
    "# Telco Churn Report"
   ]
  },
  {
   "cell_type": "markdown",
   "metadata": {},
   "source": [
    "## Planning\n",
    "### Goals\n",
    "The goal of this project is to determine drivers that indicate if customers from Telco are more likely to leave the company and to construct a Machine Learning classification model that most accurately predicts customer churn.\n",
    "\n",
    ">Deliverables will include:\n",
    "> - A repo containing: \n",
    ">   - This report detailing the process to create this model\n",
    ">   - Files that hold functions to acquire and prep the data\n",
    ">   - A Readme.md file detailing project planning and exection, my data dictionary, and instructions for project recreation\n",
    "> - Final model created to predict if a customer will churn\n",
    "> - CSV file with customer_id, probability of churn, and prediction of churn\n",
    "\n",
    "### Some Context\n",
    "Why is customer loyalty important? What is the cost of churn over time?\n",
    "According to Patrick Campbell from [ProfitWell](https://www.profitwell.com/customer-churn/analysis),\n",
    ">\"Even seemingly small, single-figure increases in churn rate \n",
    ">can quickly have a major negative effect on your company’s ability \n",
    ">to grow. What’s more, high churn rates are more likely to compound \n",
    ">over time.\""
   ]
  },
  {
   "cell_type": "markdown",
   "metadata": {},
   "source": [
    "## Acquire\n",
    "- Use the acquire.py file to access the SQL database and return a dataframe\n",
    "- Quick glances at the columns and values to understand the data features\n",
    "- Plot the features"
   ]
  },
  {
   "cell_type": "markdown",
   "metadata": {},
   "source": [
    "## Prepare\n",
    "- Adjust values or drop columns as needed\n",
    "- Make dummy variable where applicable\n",
    "- Split the dataframe into train, validate and test"
   ]
  },
  {
   "cell_type": "markdown",
   "metadata": {},
   "source": [
    "## Explore\n",
    "- Use the train dataset ONLY\n",
    "- Determine X and Y\n",
    "- Determine categorical and continuous variables"
   ]
  },
  {
   "cell_type": "markdown",
   "metadata": {},
   "source": [
    "## Model and Evaluate\n",
    "- "
   ]
  }
 ],
 "metadata": {
  "kernelspec": {
   "display_name": "Python 3",
   "language": "python",
   "name": "python3"
  },
  "language_info": {
   "codemirror_mode": {
    "name": "ipython",
    "version": 3
   },
   "file_extension": ".py",
   "mimetype": "text/x-python",
   "name": "python",
   "nbconvert_exporter": "python",
   "pygments_lexer": "ipython3",
   "version": "3.7.4"
  }
 },
 "nbformat": 4,
 "nbformat_minor": 4
}
