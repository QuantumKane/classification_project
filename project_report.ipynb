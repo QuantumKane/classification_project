{
 "cells": [
  {
   "cell_type": "markdown",
   "metadata": {},
   "source": [
    "# Telco Churn Report"
   ]
  },
  {
   "cell_type": "markdown",
   "metadata": {},
   "source": [
    "## Planning\n",
    "### Goals\n",
    "The goal of this project is to determine drivers that indicate if customers from Telco are more likely to leave the company and to construct a Machine Learning classification model that most accurately predicts customer churn.\n",
    "\n",
    ">Deliverables will include:\n",
    "> - A repo containing: \n",
    ">   - This report detailing the process to create this model\n",
    ">   - Files that hold functions to acquire and prep the data\n",
    ">   - A Readme.md file detailing project planning and exection, my data dictionary, and instructions for project recreation\n",
    "> - Final model created to predict if a customer will churn\n",
    "> - CSV file with customer_id, probability of churn, and prediction of churn\n",
    "\n",
    "### Some Context\n",
    "Why is customer loyalty important? What is the cost of churn over time?\n",
    "According to Patrick Campbell from [ProfitWell](https://www.profitwell.com/customer-churn/analysis),\n",
    ">\"Even seemingly small, single-figure increases in churn rate \n",
    ">can quickly have a major negative effect on your company’s ability \n",
    ">to grow. What’s more, high churn rates are more likely to compound \n",
    ">over time.\""
   ]
  },
  {
   "cell_type": "markdown",
   "metadata": {},
   "source": [
    "## Imports"
   ]
  },
  {
   "cell_type": "code",
   "execution_count": 5,
   "metadata": {},
   "outputs": [],
   "source": [
    "import numpy as np\n",
    "import pandas as pd\n",
    "\n",
    "from sklearn.model_selection import train_test_split\n",
    "from sklearn.linear_model import LogisticRegression\n",
    "from sklearn.metrics import classification_report\n",
    "from sklearn.metrics import confusion_matrix\n",
    "\n",
    "# ignore warnings\n",
    "import warnings\n",
    "warnings.filterwarnings(\"ignore\")\n",
    "\n",
    "import matplotlib.pyplot as plt\n",
    "import seaborn as sns\n",
    "from scipy import stats\n",
    "\n",
    "import acquire\n",
    "import explore\n",
    "import prepare"
   ]
  },
  {
   "cell_type": "markdown",
   "metadata": {},
   "source": [
    "## Acquire\n",
    "- Use the acquire.py file to access the SQL database and return a dataframe\n",
    "- Quick glances at the columns and values to understand the data features\n",
    "- Plot the features"
   ]
  },
  {
   "cell_type": "code",
   "execution_count": null,
   "metadata": {},
   "outputs": [],
   "source": [
    "# Acquire the data, check out the shape and the first five rows\n",
    "\n",
    "df = acquire.get_telco_data()\n",
    "print(df.shape)\n",
    "df.head()"
   ]
  },
  {
   "cell_type": "code",
   "execution_count": null,
   "metadata": {},
   "outputs": [],
   "source": [
    "# Inspect values and dtypes\n",
    "\n",
    "for col in df.columns:\n",
    "    print(col)\n",
    "    print(df[col].value_counts(dropna=False))\n",
    "    print('----------')"
   ]
  },
  {
   "cell_type": "code",
   "execution_count": null,
   "metadata": {},
   "outputs": [],
   "source": [
    "# Print a concise summary of our telco df - the column dtypes, non-null values\n",
    "\n",
    "df.info()"
   ]
  },
  {
   "cell_type": "code",
   "execution_count": null,
   "metadata": {},
   "outputs": [],
   "source": [
    "# Plot distribution with subplots of histograms of features\n",
    "\n",
    "# sets size\n",
    "plt.subplots(figsize=(25, 15))\n",
    "\n",
    "plt.subplot(3,3,1);\n",
    "line1 = plt.hist(df.monthly_charges)\n",
    "plt.title('monthly_charges');\n",
    "\n",
    "plt.subplot(3,3,2);\n",
    "line2 = plt.hist(df.tenure);\n",
    "plt.title('tenure');\n",
    "\n",
    "plt.subplot(3,3,3);\n",
    "line3 = plt.hist(df.payment_type);\n",
    "plt.title('payment_type');\n",
    "\n",
    "plt.subplot(3,3,4);\n",
    "line4 = plt.hist(df.contract_type);\n",
    "plt.title('contract_type');\n",
    "\n",
    "plt.subplot(3,3,5);\n",
    "line1 = plt.hist(df.internet_service_type)\n",
    "plt.title('internet_service_type');\n",
    "\n",
    "plt.subplot(3,3,6);\n",
    "line2 = plt.hist(df.streaming_movies);\n",
    "plt.title('streaming_movies');\n",
    "\n",
    "plt.subplot(3,3,7);\n",
    "line3 = plt.hist(df.dependents);\n",
    "plt.title('dependents');\n",
    "\n",
    "plt.subplot(3,3,8);\n",
    "line4 = plt.hist(df.device_protection);\n",
    "plt.title('device_protection');\n",
    "\n",
    "plt.subplot(3,3,9);\n",
    "line4 = plt.hist(df.online_security);\n",
    "plt.title('online_security');"
   ]
  },
  {
   "cell_type": "markdown",
   "metadata": {},
   "source": [
    "## Acquire Takeaways\n",
    "\n",
    "- After examining the values and data types of the data I acquired, I want to do the following in prepare:\n",
    "\n",
    "    - Convert 'online_security','online_backup', 'device_protection', 'tech_support' from `yes` and `no` values to 1 and 0.\n",
    "    \n",
    "    - I'm going to drop `total_charges` because it is calculated from `monthly_charges` and `tenure_months`.\n",
    "    "
   ]
  },
  {
   "cell_type": "markdown",
   "metadata": {},
   "source": [
    "## Prepare\n",
    "- Adjust values or drop columns as needed\n",
    "- Make dummy variable where applicable\n",
    "- Split the dataframe into train, validate and test"
   ]
  },
  {
   "cell_type": "code",
   "execution_count": null,
   "metadata": {},
   "outputs": [],
   "source": [
    "# Split my data into three sets: train, validate and test\n",
    "\n",
    "train, validate, test = prepare.telco_prep(df)"
   ]
  },
  {
   "cell_type": "code",
   "execution_count": null,
   "metadata": {},
   "outputs": [],
   "source": [
    "# Check out the shapes to confirm correct split\n",
    "\n",
    "print(train.shape, validate.shape, test.shape)"
   ]
  },
  {
   "cell_type": "markdown",
   "metadata": {},
   "source": [
    "#### Changes made in prep\n",
    "- Converted all values of \"No\" and \"Yes\" to 0 and 1\n",
    "- Dropped \"total_charges\" as it was redundant, \"gender\" and \"senior_citizen\" because they were not significant\n",
    "- Created \"tenure_months\" and \"tenure_years\" columns, both calculated from tenure\n",
    "- Created dummy variables from 'internet_service_type_id', 'online_security', and 'tech_support' columns"
   ]
  },
  {
   "cell_type": "code",
   "execution_count": null,
   "metadata": {},
   "outputs": [],
   "source": [
    "# Quick visual to confirm changes made to values in prep\n",
    "\n",
    "train.head()"
   ]
  },
  {
   "cell_type": "markdown",
   "metadata": {},
   "source": [
    "## Explore\n",
    "- Use the train dataset ONLY\n",
    "- Determine X and Y\n",
    "- Determine categorical and continuous variables"
   ]
  },
  {
   "cell_type": "markdown",
   "metadata": {},
   "source": [
    "\n",
    "#### Categorical and Continuous Features:\n",
    "| Categorical                | Continuous        |                 \n",
    "|----------------------------|-------------------|\n",
    "| internet_service_type_id   | tenure_months     |\n",
    "| contract_type_id           | monthly_charges   |\n",
    "| payment_type_id            | total_charges     |\n",
    "| customer_id                | tenure_years      |\n",
    "| partner                    |                   |\n",
    "| dependents                 |                   |\n",
    "| phone_service              |                   |\n",
    "| multiple_lines             |                   |\n",
    "| online_security            |                   |\n",
    "| online_backup              |                   |\n",
    "| device_protection          |                   |\n",
    "| tech_support               |                   |\n",
    "| streaming_tv               |                   |\n",
    "| streaming_movies           |                   |\n",
    "| paperless_billing          |                   |\n",
    "| churn                      |                   |\n",
    "| payment_type               |                   |\n",
    "| contract_type              |                   |\n",
    "| internet_service_type      |                   |                  \n"
   ]
  },
  {
   "cell_type": "code",
   "execution_count": null,
   "metadata": {},
   "outputs": [],
   "source": [
    "# Correlation heat map for quick clarification\n",
    "\n",
    "# creating the correlation of each feature against each other\n",
    "corr = train.corr()\n",
    "\n",
    "# Generate a mask for the upper triangle, prints out only the bottom triangle\n",
    "mask = np.triu(np.ones_like(corr, dtype=bool))\n",
    "\n",
    "# Set up the matplotlib figure, set size\n",
    "f, ax = plt.subplots(figsize=(13, 10))\n",
    "\n",
    "# Generate a custom diverging colormap, changing default colors\n",
    "cmap = sns.diverging_palette(250, 30, l=65, center=\"dark\", as_cmap=True)\n",
    "\n",
    "# Draw the heatmap with the mask and correct aspect ratio\n",
    "sns.heatmap(corr, mask=mask, cmap=cmap, vmax=.3, center=0,\n",
    "            square=True, linewidths=.5, cbar_kws={\"shrink\": .5})"
   ]
  },
  {
   "cell_type": "code",
   "execution_count": null,
   "metadata": {},
   "outputs": [],
   "source": []
  },
  {
   "cell_type": "code",
   "execution_count": null,
   "metadata": {},
   "outputs": [],
   "source": []
  },
  {
   "cell_type": "markdown",
   "metadata": {},
   "source": [
    "## Model and Evaluate\n",
    "- Establish a baseline to judge model efficiency against\n",
    "- Create multiple models\n",
    "- Determine the best 3 models to run on my validate dataset\n",
    "\n",
    "- By predicting that no customers will churn, I am accurate 73% of the time. This is the baseline metric that I need to beat for a model to hold any value."
   ]
  },
  {
   "cell_type": "code",
   "execution_count": null,
   "metadata": {},
   "outputs": [],
   "source": [
    "# Set my baseline accuracy.\n",
    "\n",
    "train.churn.value_counts(normalize=True)"
   ]
  },
  {
   "cell_type": "code",
   "execution_count": null,
   "metadata": {},
   "outputs": [],
   "source": []
  },
  {
   "cell_type": "markdown",
   "metadata": {},
   "source": [
    "## CSV file\n",
    "- contains customer_id, probability of churn, and prediction of churn"
   ]
  },
  {
   "cell_type": "code",
   "execution_count": null,
   "metadata": {},
   "outputs": [],
   "source": []
  }
 ],
 "metadata": {
  "kernelspec": {
   "display_name": "Python 3",
   "language": "python",
   "name": "python3"
  },
  "language_info": {
   "codemirror_mode": {
    "name": "ipython",
    "version": 3
   },
   "file_extension": ".py",
   "mimetype": "text/x-python",
   "name": "python",
   "nbconvert_exporter": "python",
   "pygments_lexer": "ipython3",
   "version": "3.7.4"
  }
 },
 "nbformat": 4,
 "nbformat_minor": 4
}
